{
  "nbformat": 4,
  "nbformat_minor": 0,
  "metadata": {
    "colab": {
      "name": "Play store reviews.ipynb",
      "provenance": [],
      "collapsed_sections": [],
      "toc_visible": true
    },
    "kernelspec": {
      "name": "python3",
      "display_name": "Python 3"
    }
  },
  "cells": [
    {
      "cell_type": "markdown",
      "metadata": {
        "id": "FPuVOx42I9xx"
      },
      "source": [
        "#Import libraries\n"
      ]
    },
    {
      "cell_type": "code",
      "metadata": {
        "id": "eQci3tPZwLS0"
      },
      "source": [
        "import numpy as np\n",
        "import matplotlib.pyplot as plt\n",
        "import pandas as pd\n",
        "import seaborn as sns"
      ],
      "execution_count": null,
      "outputs": []
    },
    {
      "cell_type": "markdown",
      "metadata": {
        "id": "K8JJgjJOJJp_"
      },
      "source": [
        "#Import dataset"
      ]
    },
    {
      "cell_type": "code",
      "metadata": {
        "id": "sACmTQ90JIVM"
      },
      "source": [
        "dataset = pd.read_csv('PlayStore_reviews.csv')"
      ],
      "execution_count": null,
      "outputs": []
    },
    {
      "cell_type": "code",
      "metadata": {
        "id": "KsY6IBVvJUfY",
        "outputId": "1898d32f-f190-4303-fbcd-b29ee73883bc",
        "colab": {
          "base_uri": "https://localhost:8080/",
          "height": 1000
        }
      },
      "source": [
        "dataset.head(50)"
      ],
      "execution_count": null,
      "outputs": [
        {
          "output_type": "execute_result",
          "data": {
            "text/html": [
              "<div>\n",
              "<style scoped>\n",
              "    .dataframe tbody tr th:only-of-type {\n",
              "        vertical-align: middle;\n",
              "    }\n",
              "\n",
              "    .dataframe tbody tr th {\n",
              "        vertical-align: top;\n",
              "    }\n",
              "\n",
              "    .dataframe thead th {\n",
              "        text-align: right;\n",
              "    }\n",
              "</style>\n",
              "<table border=\"1\" class=\"dataframe\">\n",
              "  <thead>\n",
              "    <tr style=\"text-align: right;\">\n",
              "      <th></th>\n",
              "      <th>App</th>\n",
              "      <th>Translated_Review</th>\n",
              "      <th>Sentiment</th>\n",
              "      <th>Sentiment_Polarity</th>\n",
              "      <th>Sentiment_Subjectivity</th>\n",
              "    </tr>\n",
              "  </thead>\n",
              "  <tbody>\n",
              "    <tr>\n",
              "      <th>0</th>\n",
              "      <td>10 Best Foods for You</td>\n",
              "      <td>I like eat delicious food. That's I'm cooking ...</td>\n",
              "      <td>Positive</td>\n",
              "      <td>1.000000</td>\n",
              "      <td>0.533333</td>\n",
              "    </tr>\n",
              "    <tr>\n",
              "      <th>1</th>\n",
              "      <td>10 Best Foods for You</td>\n",
              "      <td>This help eating healthy exercise regular basis</td>\n",
              "      <td>Positive</td>\n",
              "      <td>0.250000</td>\n",
              "      <td>0.288462</td>\n",
              "    </tr>\n",
              "    <tr>\n",
              "      <th>2</th>\n",
              "      <td>10 Best Foods for You</td>\n",
              "      <td>NaN</td>\n",
              "      <td>NaN</td>\n",
              "      <td>NaN</td>\n",
              "      <td>NaN</td>\n",
              "    </tr>\n",
              "    <tr>\n",
              "      <th>3</th>\n",
              "      <td>10 Best Foods for You</td>\n",
              "      <td>Works great especially going grocery store</td>\n",
              "      <td>Positive</td>\n",
              "      <td>0.400000</td>\n",
              "      <td>0.875000</td>\n",
              "    </tr>\n",
              "    <tr>\n",
              "      <th>4</th>\n",
              "      <td>10 Best Foods for You</td>\n",
              "      <td>Best idea us</td>\n",
              "      <td>Positive</td>\n",
              "      <td>1.000000</td>\n",
              "      <td>0.300000</td>\n",
              "    </tr>\n",
              "    <tr>\n",
              "      <th>5</th>\n",
              "      <td>10 Best Foods for You</td>\n",
              "      <td>Best way</td>\n",
              "      <td>Positive</td>\n",
              "      <td>1.000000</td>\n",
              "      <td>0.300000</td>\n",
              "    </tr>\n",
              "    <tr>\n",
              "      <th>6</th>\n",
              "      <td>10 Best Foods for You</td>\n",
              "      <td>Amazing</td>\n",
              "      <td>Positive</td>\n",
              "      <td>0.600000</td>\n",
              "      <td>0.900000</td>\n",
              "    </tr>\n",
              "    <tr>\n",
              "      <th>7</th>\n",
              "      <td>10 Best Foods for You</td>\n",
              "      <td>NaN</td>\n",
              "      <td>NaN</td>\n",
              "      <td>NaN</td>\n",
              "      <td>NaN</td>\n",
              "    </tr>\n",
              "    <tr>\n",
              "      <th>8</th>\n",
              "      <td>10 Best Foods for You</td>\n",
              "      <td>Looking forward app,</td>\n",
              "      <td>Neutral</td>\n",
              "      <td>0.000000</td>\n",
              "      <td>0.000000</td>\n",
              "    </tr>\n",
              "    <tr>\n",
              "      <th>9</th>\n",
              "      <td>10 Best Foods for You</td>\n",
              "      <td>It helpful site ! It help foods get !</td>\n",
              "      <td>Neutral</td>\n",
              "      <td>0.000000</td>\n",
              "      <td>0.000000</td>\n",
              "    </tr>\n",
              "    <tr>\n",
              "      <th>10</th>\n",
              "      <td>10 Best Foods for You</td>\n",
              "      <td>good you.</td>\n",
              "      <td>Positive</td>\n",
              "      <td>0.700000</td>\n",
              "      <td>0.600000</td>\n",
              "    </tr>\n",
              "    <tr>\n",
              "      <th>11</th>\n",
              "      <td>10 Best Foods for You</td>\n",
              "      <td>Useful information The amount spelling errors ...</td>\n",
              "      <td>Positive</td>\n",
              "      <td>0.200000</td>\n",
              "      <td>0.100000</td>\n",
              "    </tr>\n",
              "    <tr>\n",
              "      <th>12</th>\n",
              "      <td>10 Best Foods for You</td>\n",
              "      <td>Thank you! Great app!! Add arthritis, eyes, im...</td>\n",
              "      <td>Positive</td>\n",
              "      <td>0.750000</td>\n",
              "      <td>0.875000</td>\n",
              "    </tr>\n",
              "    <tr>\n",
              "      <th>13</th>\n",
              "      <td>10 Best Foods for You</td>\n",
              "      <td>Greatest ever Completely awesome maintain heal...</td>\n",
              "      <td>Positive</td>\n",
              "      <td>0.992188</td>\n",
              "      <td>0.866667</td>\n",
              "    </tr>\n",
              "    <tr>\n",
              "      <th>14</th>\n",
              "      <td>10 Best Foods for You</td>\n",
              "      <td>Good health...... Good health first priority.....</td>\n",
              "      <td>Positive</td>\n",
              "      <td>0.550000</td>\n",
              "      <td>0.511111</td>\n",
              "    </tr>\n",
              "    <tr>\n",
              "      <th>15</th>\n",
              "      <td>10 Best Foods for You</td>\n",
              "      <td>NaN</td>\n",
              "      <td>NaN</td>\n",
              "      <td>NaN</td>\n",
              "      <td>NaN</td>\n",
              "    </tr>\n",
              "    <tr>\n",
              "      <th>16</th>\n",
              "      <td>10 Best Foods for You</td>\n",
              "      <td>Health It's important world either life . thin...</td>\n",
              "      <td>Positive</td>\n",
              "      <td>0.450000</td>\n",
              "      <td>1.000000</td>\n",
              "    </tr>\n",
              "    <tr>\n",
              "      <th>17</th>\n",
              "      <td>10 Best Foods for You</td>\n",
              "      <td>Mrs sunita bhati I thankful developers,to make...</td>\n",
              "      <td>Positive</td>\n",
              "      <td>0.600000</td>\n",
              "      <td>0.666667</td>\n",
              "    </tr>\n",
              "    <tr>\n",
              "      <th>18</th>\n",
              "      <td>10 Best Foods for You</td>\n",
              "      <td>Very Useful in diabetes age 30. I need control...</td>\n",
              "      <td>Positive</td>\n",
              "      <td>0.295000</td>\n",
              "      <td>0.100000</td>\n",
              "    </tr>\n",
              "    <tr>\n",
              "      <th>19</th>\n",
              "      <td>10 Best Foods for You</td>\n",
              "      <td>One greatest apps.</td>\n",
              "      <td>Positive</td>\n",
              "      <td>1.000000</td>\n",
              "      <td>1.000000</td>\n",
              "    </tr>\n",
              "    <tr>\n",
              "      <th>20</th>\n",
              "      <td>10 Best Foods for You</td>\n",
              "      <td>good nice</td>\n",
              "      <td>Positive</td>\n",
              "      <td>0.650000</td>\n",
              "      <td>0.800000</td>\n",
              "    </tr>\n",
              "    <tr>\n",
              "      <th>21</th>\n",
              "      <td>10 Best Foods for You</td>\n",
              "      <td>Healthy Really helped</td>\n",
              "      <td>Positive</td>\n",
              "      <td>0.350000</td>\n",
              "      <td>0.350000</td>\n",
              "    </tr>\n",
              "    <tr>\n",
              "      <th>22</th>\n",
              "      <td>10 Best Foods for You</td>\n",
              "      <td>God health</td>\n",
              "      <td>Neutral</td>\n",
              "      <td>0.000000</td>\n",
              "      <td>0.000000</td>\n",
              "    </tr>\n",
              "    <tr>\n",
              "      <th>23</th>\n",
              "      <td>10 Best Foods for You</td>\n",
              "      <td>HEALTH SHOULD ALWAYS BE TOP PRIORITY. !!. ON M...</td>\n",
              "      <td>Positive</td>\n",
              "      <td>0.781250</td>\n",
              "      <td>0.500000</td>\n",
              "    </tr>\n",
              "    <tr>\n",
              "      <th>24</th>\n",
              "      <td>10 Best Foods for You</td>\n",
              "      <td>An excellent A useful</td>\n",
              "      <td>Positive</td>\n",
              "      <td>0.650000</td>\n",
              "      <td>0.500000</td>\n",
              "    </tr>\n",
              "    <tr>\n",
              "      <th>25</th>\n",
              "      <td>10 Best Foods for You</td>\n",
              "      <td>I found lot wealth form health...</td>\n",
              "      <td>Neutral</td>\n",
              "      <td>0.000000</td>\n",
              "      <td>0.000000</td>\n",
              "    </tr>\n",
              "    <tr>\n",
              "      <th>26</th>\n",
              "      <td>10 Best Foods for You</td>\n",
              "      <td>Because I found important.</td>\n",
              "      <td>Positive</td>\n",
              "      <td>0.400000</td>\n",
              "      <td>1.000000</td>\n",
              "    </tr>\n",
              "    <tr>\n",
              "      <th>27</th>\n",
              "      <td>10 Best Foods for You</td>\n",
              "      <td>Healthy Eating</td>\n",
              "      <td>Positive</td>\n",
              "      <td>0.500000</td>\n",
              "      <td>0.500000</td>\n",
              "    </tr>\n",
              "    <tr>\n",
              "      <th>28</th>\n",
              "      <td>10 Best Foods for You</td>\n",
              "      <td>Very good Simply good</td>\n",
              "      <td>Positive</td>\n",
              "      <td>0.805000</td>\n",
              "      <td>0.690000</td>\n",
              "    </tr>\n",
              "    <tr>\n",
              "      <th>29</th>\n",
              "      <td>10 Best Foods for You</td>\n",
              "      <td>On test....</td>\n",
              "      <td>Neutral</td>\n",
              "      <td>0.000000</td>\n",
              "      <td>0.000000</td>\n",
              "    </tr>\n",
              "    <tr>\n",
              "      <th>30</th>\n",
              "      <td>10 Best Foods for You</td>\n",
              "      <td>Good.!!</td>\n",
              "      <td>Positive</td>\n",
              "      <td>1.000000</td>\n",
              "      <td>0.600000</td>\n",
              "    </tr>\n",
              "    <tr>\n",
              "      <th>31</th>\n",
              "      <td>10 Best Foods for You</td>\n",
              "      <td>Thanks advice. Downloaded Adobe reader still c...</td>\n",
              "      <td>Positive</td>\n",
              "      <td>0.200000</td>\n",
              "      <td>0.200000</td>\n",
              "    </tr>\n",
              "    <tr>\n",
              "      <th>32</th>\n",
              "      <td>10 Best Foods for You</td>\n",
              "      <td>No recipe book Unable recipe book.</td>\n",
              "      <td>Negative</td>\n",
              "      <td>-0.500000</td>\n",
              "      <td>0.500000</td>\n",
              "    </tr>\n",
              "    <tr>\n",
              "      <th>33</th>\n",
              "      <td>10 Best Foods for You</td>\n",
              "      <td>Absolutely Fabulous Phenomenal</td>\n",
              "      <td>Positive</td>\n",
              "      <td>0.450000</td>\n",
              "      <td>0.750000</td>\n",
              "    </tr>\n",
              "    <tr>\n",
              "      <th>34</th>\n",
              "      <td>10 Best Foods for You</td>\n",
              "      <td>Great Love food</td>\n",
              "      <td>Positive</td>\n",
              "      <td>0.650000</td>\n",
              "      <td>0.675000</td>\n",
              "    </tr>\n",
              "    <tr>\n",
              "      <th>35</th>\n",
              "      <td>10 Best Foods for You</td>\n",
              "      <td>Excellent It really works</td>\n",
              "      <td>Positive</td>\n",
              "      <td>0.600000</td>\n",
              "      <td>0.600000</td>\n",
              "    </tr>\n",
              "    <tr>\n",
              "      <th>36</th>\n",
              "      <td>10 Best Foods for You</td>\n",
              "      <td>Best</td>\n",
              "      <td>Positive</td>\n",
              "      <td>1.000000</td>\n",
              "      <td>0.300000</td>\n",
              "    </tr>\n",
              "    <tr>\n",
              "      <th>37</th>\n",
              "      <td>10 Best Foods for You</td>\n",
              "      <td>WEALTH OF INFORMATION Very informative ... eas...</td>\n",
              "      <td>Positive</td>\n",
              "      <td>0.186616</td>\n",
              "      <td>0.356313</td>\n",
              "    </tr>\n",
              "    <tr>\n",
              "      <th>38</th>\n",
              "      <td>10 Best Foods for You</td>\n",
              "      <td>Not description good</td>\n",
              "      <td>Positive</td>\n",
              "      <td>0.700000</td>\n",
              "      <td>0.600000</td>\n",
              "    </tr>\n",
              "    <tr>\n",
              "      <th>39</th>\n",
              "      <td>10 Best Foods for You</td>\n",
              "      <td>Great app. Love</td>\n",
              "      <td>Positive</td>\n",
              "      <td>0.650000</td>\n",
              "      <td>0.675000</td>\n",
              "    </tr>\n",
              "    <tr>\n",
              "      <th>40</th>\n",
              "      <td>10 Best Foods for You</td>\n",
              "      <td>Good</td>\n",
              "      <td>Positive</td>\n",
              "      <td>0.700000</td>\n",
              "      <td>0.600000</td>\n",
              "    </tr>\n",
              "    <tr>\n",
              "      <th>41</th>\n",
              "      <td>10 Best Foods for You</td>\n",
              "      <td>Loved Very helpful</td>\n",
              "      <td>Positive</td>\n",
              "      <td>0.450000</td>\n",
              "      <td>0.550000</td>\n",
              "    </tr>\n",
              "    <tr>\n",
              "      <th>42</th>\n",
              "      <td>10 Best Foods for You</td>\n",
              "      <td>Good healthy foods.</td>\n",
              "      <td>Positive</td>\n",
              "      <td>0.600000</td>\n",
              "      <td>0.550000</td>\n",
              "    </tr>\n",
              "    <tr>\n",
              "      <th>43</th>\n",
              "      <td>10 Best Foods for You</td>\n",
              "      <td>Waste time It needs internet time n ask calls ...</td>\n",
              "      <td>Negative</td>\n",
              "      <td>-0.200000</td>\n",
              "      <td>0.000000</td>\n",
              "    </tr>\n",
              "    <tr>\n",
              "      <th>44</th>\n",
              "      <td>10 Best Foods for You</td>\n",
              "      <td>Best thing I lost ten lbs. two months help tips</td>\n",
              "      <td>Positive</td>\n",
              "      <td>0.500000</td>\n",
              "      <td>0.150000</td>\n",
              "    </tr>\n",
              "    <tr>\n",
              "      <th>45</th>\n",
              "      <td>10 Best Foods for You</td>\n",
              "      <td>Ten best food promote good health Good health ...</td>\n",
              "      <td>Positive</td>\n",
              "      <td>0.443750</td>\n",
              "      <td>0.412500</td>\n",
              "    </tr>\n",
              "    <tr>\n",
              "      <th>46</th>\n",
              "      <td>10 Best Foods for You</td>\n",
              "      <td>Healthy Food Really good information eat healthy</td>\n",
              "      <td>Positive</td>\n",
              "      <td>0.566667</td>\n",
              "      <td>0.533333</td>\n",
              "    </tr>\n",
              "    <tr>\n",
              "      <th>47</th>\n",
              "      <td>10 Best Foods for You</td>\n",
              "      <td>My mom dad important thing This good share</td>\n",
              "      <td>Positive</td>\n",
              "      <td>0.550000</td>\n",
              "      <td>0.800000</td>\n",
              "    </tr>\n",
              "    <tr>\n",
              "      <th>48</th>\n",
              "      <td>10 Best Foods for You</td>\n",
              "      <td>A big thanks ds I got bst gd health</td>\n",
              "      <td>Positive</td>\n",
              "      <td>0.100000</td>\n",
              "      <td>0.150000</td>\n",
              "    </tr>\n",
              "    <tr>\n",
              "      <th>49</th>\n",
              "      <td>10 Best Foods for You</td>\n",
              "      <td>Lovely Best everyone needs</td>\n",
              "      <td>Positive</td>\n",
              "      <td>0.750000</td>\n",
              "      <td>0.525000</td>\n",
              "    </tr>\n",
              "  </tbody>\n",
              "</table>\n",
              "</div>"
            ],
            "text/plain": [
              "                      App  ... Sentiment_Subjectivity\n",
              "0   10 Best Foods for You  ...               0.533333\n",
              "1   10 Best Foods for You  ...               0.288462\n",
              "2   10 Best Foods for You  ...                    NaN\n",
              "3   10 Best Foods for You  ...               0.875000\n",
              "4   10 Best Foods for You  ...               0.300000\n",
              "5   10 Best Foods for You  ...               0.300000\n",
              "6   10 Best Foods for You  ...               0.900000\n",
              "7   10 Best Foods for You  ...                    NaN\n",
              "8   10 Best Foods for You  ...               0.000000\n",
              "9   10 Best Foods for You  ...               0.000000\n",
              "10  10 Best Foods for You  ...               0.600000\n",
              "11  10 Best Foods for You  ...               0.100000\n",
              "12  10 Best Foods for You  ...               0.875000\n",
              "13  10 Best Foods for You  ...               0.866667\n",
              "14  10 Best Foods for You  ...               0.511111\n",
              "15  10 Best Foods for You  ...                    NaN\n",
              "16  10 Best Foods for You  ...               1.000000\n",
              "17  10 Best Foods for You  ...               0.666667\n",
              "18  10 Best Foods for You  ...               0.100000\n",
              "19  10 Best Foods for You  ...               1.000000\n",
              "20  10 Best Foods for You  ...               0.800000\n",
              "21  10 Best Foods for You  ...               0.350000\n",
              "22  10 Best Foods for You  ...               0.000000\n",
              "23  10 Best Foods for You  ...               0.500000\n",
              "24  10 Best Foods for You  ...               0.500000\n",
              "25  10 Best Foods for You  ...               0.000000\n",
              "26  10 Best Foods for You  ...               1.000000\n",
              "27  10 Best Foods for You  ...               0.500000\n",
              "28  10 Best Foods for You  ...               0.690000\n",
              "29  10 Best Foods for You  ...               0.000000\n",
              "30  10 Best Foods for You  ...               0.600000\n",
              "31  10 Best Foods for You  ...               0.200000\n",
              "32  10 Best Foods for You  ...               0.500000\n",
              "33  10 Best Foods for You  ...               0.750000\n",
              "34  10 Best Foods for You  ...               0.675000\n",
              "35  10 Best Foods for You  ...               0.600000\n",
              "36  10 Best Foods for You  ...               0.300000\n",
              "37  10 Best Foods for You  ...               0.356313\n",
              "38  10 Best Foods for You  ...               0.600000\n",
              "39  10 Best Foods for You  ...               0.675000\n",
              "40  10 Best Foods for You  ...               0.600000\n",
              "41  10 Best Foods for You  ...               0.550000\n",
              "42  10 Best Foods for You  ...               0.550000\n",
              "43  10 Best Foods for You  ...               0.000000\n",
              "44  10 Best Foods for You  ...               0.150000\n",
              "45  10 Best Foods for You  ...               0.412500\n",
              "46  10 Best Foods for You  ...               0.533333\n",
              "47  10 Best Foods for You  ...               0.800000\n",
              "48  10 Best Foods for You  ...               0.150000\n",
              "49  10 Best Foods for You  ...               0.525000\n",
              "\n",
              "[50 rows x 5 columns]"
            ]
          },
          "metadata": {
            "tags": []
          },
          "execution_count": 5
        }
      ]
    },
    {
      "cell_type": "code",
      "metadata": {
        "id": "8Jg9DG8OQ4Us",
        "outputId": "e9695fdf-ab05-48ec-b673-2e41960b824d",
        "colab": {
          "base_uri": "https://localhost:8080/",
          "height": 34
        }
      },
      "source": [
        "len(dataset.iloc[:, 1].values)"
      ],
      "execution_count": null,
      "outputs": [
        {
          "output_type": "execute_result",
          "data": {
            "text/plain": [
              "30877"
            ]
          },
          "metadata": {
            "tags": []
          },
          "execution_count": 6
        }
      ]
    },
    {
      "cell_type": "code",
      "metadata": {
        "id": "myJVsvTMhlYl",
        "outputId": "95b9c0cb-0a6e-4764-de57-47fedd2a4ae0",
        "colab": {
          "base_uri": "https://localhost:8080/",
          "height": 34
        }
      },
      "source": [
        "dataset.isnull().sum().any()"
      ],
      "execution_count": null,
      "outputs": [
        {
          "output_type": "execute_result",
          "data": {
            "text/plain": [
              "True"
            ]
          },
          "metadata": {
            "tags": []
          },
          "execution_count": 7
        }
      ]
    },
    {
      "cell_type": "code",
      "metadata": {
        "id": "hcS7i-PaRJl6"
      },
      "source": [
        "dataset = dataset.dropna()"
      ],
      "execution_count": null,
      "outputs": []
    },
    {
      "cell_type": "code",
      "metadata": {
        "id": "UwDKjYkzhhnU",
        "outputId": "9948caed-9586-4e5e-b015-536869466807",
        "colab": {
          "base_uri": "https://localhost:8080/",
          "height": 34
        }
      },
      "source": [
        "dataset.isnull().sum().any()"
      ],
      "execution_count": null,
      "outputs": [
        {
          "output_type": "execute_result",
          "data": {
            "text/plain": [
              "False"
            ]
          },
          "metadata": {
            "tags": []
          },
          "execution_count": 9
        }
      ]
    },
    {
      "cell_type": "code",
      "metadata": {
        "id": "RQWPVLeHiEcA",
        "outputId": "c90d532e-6825-4c7f-a819-d391ebed6c58",
        "colab": {
          "base_uri": "https://localhost:8080/",
          "height": 34
        }
      },
      "source": [
        "len(dataset.iloc[:, 1].values)"
      ],
      "execution_count": null,
      "outputs": [
        {
          "output_type": "execute_result",
          "data": {
            "text/plain": [
              "18135"
            ]
          },
          "metadata": {
            "tags": []
          },
          "execution_count": 10
        }
      ]
    },
    {
      "cell_type": "markdown",
      "metadata": {
        "id": "-NV1RayoJrIq"
      },
      "source": [
        "In this Notebook, we will solve some of the questions \n",
        "1. Predicting sentiments : Positive/Negative/Neutral\n",
        "2. Predicting sentiment polarity\n",
        "3. Predicting sentiment subjectivity"
      ]
    },
    {
      "cell_type": "markdown",
      "metadata": {
        "id": "Y6cPGJXvOH0O"
      },
      "source": [
        "#Cleaning the Text -> Reviews"
      ]
    },
    {
      "cell_type": "code",
      "metadata": {
        "id": "fs-bxDCvJ-Bz",
        "outputId": "89e23857-4232-4353-ddeb-87cfc95dd4a2",
        "colab": {
          "base_uri": "https://localhost:8080/",
          "height": 50
        }
      },
      "source": [
        "import re\n",
        "import nltk\n",
        "nltk.download('stopwords')\n",
        "from nltk.corpus import stopwords\n",
        "from nltk.stem.porter import PorterStemmer\n",
        "corpus = []\n",
        "for i in range(18135):\n",
        "  tab_review = str(dataset.iloc[i, 1])\n",
        "  review = re.sub('[^a-zA-z]', ' ', tab_review)\n",
        "  reveiw = review.lower()\n",
        "  review = review.split()\n",
        "  ps = PorterStemmer()\n",
        "  all_stopwords = stopwords.words('english')\n",
        "  all_stopwords.remove('not')\n",
        "  review = [ps.stem(word) for word in review if not word in set(all_stopwords)]\n",
        "  review = ' '.join(review)\n",
        "  corpus.append(review)"
      ],
      "execution_count": null,
      "outputs": [
        {
          "output_type": "stream",
          "text": [
            "[nltk_data] Downloading package stopwords to /root/nltk_data...\n",
            "[nltk_data]   Unzipping corpora/stopwords.zip.\n"
          ],
          "name": "stdout"
        }
      ]
    },
    {
      "cell_type": "code",
      "metadata": {
        "id": "GESngmIkQW7E",
        "outputId": "9f173898-0ed0-432f-98d7-d3a86fea3fa2",
        "colab": {
          "base_uri": "https://localhost:8080/",
          "height": 1000
        }
      },
      "source": [
        "corpus"
      ],
      "execution_count": null,
      "outputs": [
        {
          "output_type": "execute_result",
          "data": {
            "text/plain": [
              "['I like eat delici food that I cook food case best food help lot also best befor shelf life',\n",
              " 'thi help eat healthi exercis regular basi',\n",
              " 'work great especi go groceri store',\n",
              " 'best idea us',\n",
              " 'best way',\n",
              " 'amaz',\n",
              " 'look forward app',\n",
              " 'It help site It help food get',\n",
              " 'good',\n",
              " 'use inform the amount spell error question valid inform share onc fix star given',\n",
              " 'thank great app add arthriti eye immun kidney liver detox food pleas',\n",
              " 'greatest ever complet awesom maintain health thi must ppl love',\n",
              " 'good health good health first prioriti',\n",
              " 'health It import world either life think',\n",
              " 'mr sunita bhati I thank develop make kind app realli good healthi food bodi',\n",
              " 'veri use diabet age I need control sugar thank',\n",
              " 'one greatest app',\n",
              " 'good nice',\n",
              " 'healthi realli help',\n",
              " 'god health',\n",
              " 'health should alway BE top prioriti ON mysg',\n",
              " 'An excel A use',\n",
              " 'I found lot wealth form health',\n",
              " 'becaus I found import',\n",
              " 'healthi eat',\n",
              " 'veri good simpli good',\n",
              " 'On test',\n",
              " 'good',\n",
              " 'thank advic download adob reader still get recip book',\n",
              " 'No recip book unabl recip book',\n",
              " 'absolut fabul phenomen',\n",
              " 'great love food',\n",
              " 'excel It realli work',\n",
              " 'best',\n",
              " 'wealth OF inform veri inform easi understand the ad middl page interupt read updat My ad comment not object ad liter posit ad smack dab middl I new spartphon app didnt know not click eveyth I saw but full review',\n",
              " 'not descript good',\n",
              " 'great app love',\n",
              " 'good',\n",
              " 'love veri help',\n",
              " 'good healthi food',\n",
              " 'wast time It need internet time n ask call inform',\n",
              " 'best thing I lost ten lb two month help tip',\n",
              " 'ten best food promot good health good health essenti long healthi lifestyl make habit eat food promot good health eat fruit veggi everi day',\n",
              " 'healthi food realli good inform eat healthi',\n",
              " 'My mom dad import thing thi good share',\n",
              " 'A big thank ds I got bst gd health',\n",
              " 'love best everyon need',\n",
              " 'love It I lost pound far',\n",
              " 'I like',\n",
              " 'thank help app',\n",
              " 'good food realli good eat',\n",
              " 'thank thank u much',\n",
              " 'love thi realli good',\n",
              " 'thi help',\n",
              " 'I love',\n",
              " 'veri use',\n",
              " 'great love',\n",
              " 'veri inform',\n",
              " 'luv',\n",
              " 'great',\n",
              " 'wonder',\n",
              " 'doesn work zero',\n",
              " 'weight loss not bad',\n",
              " 'best food u excel chose food',\n",
              " 'thi need',\n",
              " 'faltu plz wast ur time',\n",
              " 'best food thank recip book',\n",
              " 'I love good',\n",
              " 'I like superb',\n",
              " 'good V good',\n",
              " 'healthi',\n",
              " 'quick read',\n",
              " 'great idea',\n",
              " 'too good',\n",
              " 'cool',\n",
              " 'good',\n",
              " 'good',\n",
              " 'best best',\n",
              " 'great great',\n",
              " 'food list easi I predibet I scare all Dr said potato rice bread He never told I could eat I suppli paperwork state thing could happen thi tell get work thank calm awesom app get IT',\n",
              " 'great wife My wife enjoy much she kinda person like follow health diet she spend much time front PC find appropri diet food now found magnific app thank thumb',\n",
              " 'great veri interest use applic I like',\n",
              " 'crap doesn work',\n",
              " 'thi starr download',\n",
              " 'I like wa help',\n",
              " 'nice super get',\n",
              " 'nice nice collect',\n",
              " 'wow',\n",
              " 'interest It interest info I think worth storag space phone I rather research comput print list neat idea make life easier provid entertain I expect app',\n",
              " 'luv simpl easi understand well thought I follow step step problem see result I also luv app give food choic but look like foundat keep good work',\n",
              " 'not good it good u net connect u play app much good',\n",
              " 'awesom resourc I begin new journey I see great result',\n",
              " 'bore I thought actual text too poor old text',\n",
              " 'love app It give way good idea I buy store eat daili basi',\n",
              " 'great it realli best uniqu provid detail inform food nutriti stay healthi hat develop give free',\n",
              " 'noth special could find anyth use',\n",
              " 'it ok I love ok',\n",
              " 'I like eat delici food that I cook food case best food help lot also best befor shelf life',\n",
              " 'thi help eat healthi exercis regular basi',\n",
              " 'work great especi go groceri store',\n",
              " 'best idea us',\n",
              " 'best way',\n",
              " 'amaz',\n",
              " 'look forward app',\n",
              " 'It help site It help food get',\n",
              " 'good',\n",
              " 'use inform the amount spell error question valid inform share onc fix star given',\n",
              " 'thank great app add arthriti eye immun kidney liver detox food pleas',\n",
              " 'greatest ever complet awesom maintain health thi must ppl love',\n",
              " 'good health good health first prioriti',\n",
              " 'health It import world either life think',\n",
              " 'mr sunita bhati I thank develop make kind app realli good healthi food bodi',\n",
              " 'veri use diabet age I need control sugar thank',\n",
              " 'one greatest app',\n",
              " 'good nice',\n",
              " 'healthi realli help',\n",
              " 'god health',\n",
              " 'health should alway BE top prioriti ON mysg',\n",
              " 'An excel A use',\n",
              " 'I found lot wealth form health',\n",
              " 'becaus I found import',\n",
              " 'healthi eat',\n",
              " 'veri good simpli good',\n",
              " 'On test',\n",
              " 'good',\n",
              " 'thank advic download adob reader still get recip book',\n",
              " 'No recip book unabl recip book',\n",
              " 'absolut fabul phenomen',\n",
              " 'great love food',\n",
              " 'excel It realli work',\n",
              " 'best',\n",
              " 'wealth OF inform veri inform easi understand the ad middl page interupt read updat My ad comment not object ad liter posit ad smack dab middl I new spartphon app didnt know not click eveyth I saw but full review',\n",
              " 'not descript good',\n",
              " 'great app love',\n",
              " 'good',\n",
              " 'love veri help',\n",
              " 'good healthi food',\n",
              " 'wast time It need internet time n ask call inform',\n",
              " 'best thing I lost ten lb two month help tip',\n",
              " 'ten best food promot good health good health essenti long healthi lifestyl make habit eat food promot good health eat fruit veggi everi day',\n",
              " 'healthi food realli good inform eat healthi',\n",
              " 'My mom dad import thing thi good share',\n",
              " 'A big thank ds I got bst gd health',\n",
              " 'love best everyon need',\n",
              " 'love It I lost pound far',\n",
              " 'I like',\n",
              " 'thank help app',\n",
              " 'good food realli good eat',\n",
              " 'thank thank u much',\n",
              " 'love thi realli good',\n",
              " 'thi help',\n",
              " 'I love',\n",
              " 'veri use',\n",
              " 'great love',\n",
              " 'veri inform',\n",
              " 'luv',\n",
              " 'great',\n",
              " 'wonder',\n",
              " 'doesn work zero',\n",
              " 'weight loss not bad',\n",
              " 'best food u excel chose food',\n",
              " 'thi need',\n",
              " 'faltu plz wast ur time',\n",
              " 'best food thank recip book',\n",
              " 'I love good',\n",
              " 'I like superb',\n",
              " 'good V good',\n",
              " 'healthi',\n",
              " 'quick read',\n",
              " 'great idea',\n",
              " 'too good',\n",
              " 'cool',\n",
              " 'good',\n",
              " 'good',\n",
              " 'best best',\n",
              " 'great great',\n",
              " 'food list easi I predibet I scare all Dr said potato rice bread He never told I could eat I suppli paperwork state thing could happen thi tell get work thank calm awesom app get IT',\n",
              " 'great wife My wife enjoy much she kinda person like follow health diet she spend much time front PC find appropri diet food now found magnific app thank thumb',\n",
              " 'great veri interest use applic I like',\n",
              " 'crap doesn work',\n",
              " 'thi starr download',\n",
              " 'I like wa help',\n",
              " 'nice super get',\n",
              " 'nice nice collect',\n",
              " 'wow',\n",
              " 'interest It interest info I think worth storag space phone I rather research comput print list neat idea make life easier provid entertain I expect app',\n",
              " 'luv simpl easi understand well thought I follow step step problem see result I also luv app give food choic but look like foundat keep good work',\n",
              " 'not good it good u net connect u play app much good',\n",
              " 'awesom resourc I begin new journey I see great result',\n",
              " 'bore I thought actual text too poor old text',\n",
              " 'love app It give way good idea I buy store eat daili basi',\n",
              " 'great it realli best uniqu provid detail inform food nutriti stay healthi hat develop give free',\n",
              " 'noth special could find anyth use',\n",
              " 'it ok I love ok',\n",
              " 'great',\n",
              " 'nice',\n",
              " 'almost mobil phone',\n",
              " 'veri effect effici conveni find avail job keep good work power job search',\n",
              " 'easi intuit',\n",
              " 'good search job internship',\n",
              " 'not bad price littl bit expens',\n",
              " 'easi use',\n",
              " 'job search result io e g secur',\n",
              " 'easi',\n",
              " 'well also largest human bank taiwan can pleas app ui',\n",
              " 'great',\n",
              " 'So',\n",
              " 'veri use',\n",
              " 'help',\n",
              " 'veri good job hunt',\n",
              " 'easi use',\n",
              " 'nice',\n",
              " 'good find job easili',\n",
              " 'good meet good',\n",
              " 'awesomee',\n",
              " 'whi english version',\n",
              " 'the oper interfac inform content richer also better use util without flash back',\n",
              " 'nice',\n",
              " 'Is develop method complet earli day comput web version mobil app function seem short not function page for exampl similar work function similar compani not app version',\n",
              " 'thi better suit possibl somebodi understand pitfal modern technolog',\n",
              " 'use handi termin mobil devic UI UX improv',\n",
              " 'job hunt So amaz easi use thanx guy',\n",
              " 'conveni easi use mani larg corpor',\n",
              " 'easi use interfac',\n",
              " 'easi simpl easi use',\n",
              " 'easi found job',\n",
              " 'great',\n",
              " 'use thi use chines difficult peopl read chines If add english languag use',\n",
              " 'sell phone number after complet resum minut I hit mobil phone includ nanshan life insur',\n",
              " 'veri help veri easi user friendli brilliant app',\n",
              " 'good veri help',\n",
              " 'veri good conveni easi use beauti good',\n",
              " 'Ok',\n",
              " 'nice',\n",
              " 'horribl ID verif',\n",
              " 'easi even basic korean search english usual bring result product ship oversea best search korean',\n",
              " 'cool',\n",
              " 'I not collect month I not refund He said would call month',\n",
              " 'top bar miss newest updat hard shop search',\n",
              " 'there noth miss',\n",
              " 'refund take long day still receiv money crazi',\n",
              " 'I enjoy onlin shop via st app perfect',\n",
              " 'good enough',\n",
              " 'I switch gmarket twice st new face',\n",
              " 'forc full screen popup',\n",
              " 'Is sound like want clear chrome pay android user not pay chrome error I fix app Is realli true It makgeolli',\n",
              " 'Ok',\n",
              " 'I tri updat everi time I not stall It still difficult search I tire see categori categori the benefit get less less',\n",
              " 'just tri So far good',\n",
              " 'icon name strang updat',\n",
              " 'com skplanet syruppay cardrecognizedlib',\n",
              " 'nice',\n",
              " 'best shop',\n",
              " 'I forgot password get new',\n",
              " 'best',\n",
              " 'I love',\n",
              " 'forc updat',\n",
              " 'she',\n",
              " 'love natur',\n",
              " 'languag barrier I understand korea I want english',\n",
              " 'ship view flexibl view make right whi not come',\n",
              " 'point I want give No point shortag I click internet address I could not find product I pop th avenu app automat turn automat abduct I not use internet app',\n",
              " 'five star it nice',\n",
              " 'forc termin sever If tri view detail inform forcibl termin',\n",
              " 'open market revolut A section helo ship open market mobil servic there still mani page area not serv mobil servic interfac also urgent level page load If understand limit sourc control product inform provid seller chronic problem problem aris load coupon benefit manag page',\n",
              " 'english version Hi possibl english version thank',\n",
              " 'If phone authent otp call agent abl find there letter authent also e mail If not thing call counselor',\n",
              " 'It slow sinc last updat It hard pay product I give I aliv',\n",
              " 'good good',\n",
              " 'If network error occur app save state tri tri point next time gone It total tough',\n",
              " 'problem languag I dont understand languag use app I advis keep option user choos languag may prefer',\n",
              " 'nice So nice app',\n",
              " 'don english languag like',\n",
              " 'great hassl free way order contact got call remind prescript expir tomorrow',\n",
              " 'It expens I expect I thought I save money cut middl man waaaaay conveni doctor offic',\n",
              " 'super fast navig brand fast easi checkout addit ad BS',\n",
              " 'easi step step process correct inform took minut place order',\n",
              " 'place order easi especi paper copi Rx I updat review I receiv order rebat',\n",
              " 'super fast order reorder easi interfac love conveni app',\n",
              " 'I love make get contact easi',\n",
              " 'easi use will def recommend',\n",
              " 'love app super easi use order contact less minut',\n",
              " 'thi easi use order process fast effici',\n",
              " 'So simpl cave man',\n",
              " 'simpl fast easi use No eye appoint',\n",
              " 'veri user friendli',\n",
              " 'veri easi use love free ship',\n",
              " 'veri easi use',\n",
              " 'dope',\n",
              " 'easi afford',\n",
              " 'easi',\n",
              " 'great',\n",
              " 'So easi app made order contact breez great price',\n",
              " 'doe need No sens give anyth less star',\n",
              " 'work well glad I',\n",
              " 'It hell lot easier I thought would',\n",
              " 'It made get new contact easi',\n",
              " 'I love app SO easi super conveni',\n",
              " 'hope work well first time user',\n",
              " 'contact ship time effici',\n",
              " 'veri easi',\n",
              " 'easi access',\n",
              " 'first time app alway use doctor offic stand behind tore contact hope solv problem contact',\n",
              " 'month later GS still notifi expir lens useless len notif work success push alert discount the fundament reason keep run len expir notif work My notif set fine',\n",
              " 'good price except custom servic order sent particular fault begin thoroughli check inform complet order when I email I got respons rather quickli hour correct made I receiv free overnight ship ensur get lens promptli wonder',\n",
              " 'It quick easi order contact app I love and realli save time money make extrem happi got love free market capit',\n",
              " 'order sunday got call verifi last name recent marri schedul ship monday happi custom',\n",
              " 'took second find rx get contact order conveni',\n",
              " 'short simpl sweet super easi took less min order contact plu save',\n",
              " 'super easi not super cheap cheaper actual go optometrist good deal ship',\n",
              " 'veri use streamlin eye care need recommend contact wearer veri reliabl ship easi well',\n",
              " 'veri easi use they rememb last order I figur',\n",
              " 'thi well design easi conveni',\n",
              " 'great hassl free way order contact got call remind prescript expir tomorrow',\n",
              " 'It expens I expect I thought I save money cut middl man waaaaay conveni doctor offic',\n",
              " 'super fast navig brand fast easi checkout addit ad BS',\n",
              " 'easi step step process correct inform took minut place order',\n",
              " 'place order easi especi paper copi Rx I updat review I receiv order rebat',\n",
              " 'super fast order reorder easi interfac love conveni app',\n",
              " 'I love make get contact easi',\n",
              " 'easi use will def recommend',\n",
              " 'love app super easi use order contact less minut',\n",
              " 'thi easi use order process fast effici',\n",
              " 'So simpl cave man',\n",
              " 'simpl fast easi use No eye appoint',\n",
              " 'veri user friendli',\n",
              " 'veri easi use love free ship',\n",
              " 'veri easi use',\n",
              " 'dope',\n",
              " 'easi afford',\n",
              " 'easi',\n",
              " 'great',\n",
              " 'So easi app made order contact breez great price',\n",
              " 'doe need No sens give anyth less star',\n",
              " 'work well glad I',\n",
              " 'It hell lot easier I thought would',\n",
              " 'It made get new contact easi',\n",
              " 'I love app SO easi super conveni',\n",
              " 'hope work well first time user',\n",
              " 'contact ship time effici',\n",
              " 'veri easi',\n",
              " 'easi access',\n",
              " 'first time app alway use doctor offic stand behind tore contact hope solv problem contact',\n",
              " 'month later GS still notifi expir lens useless len notif work success push alert discount the fundament reason keep run len expir notif work My notif set fine',\n",
              " 'good price except custom servic order sent particular fault begin thoroughli check inform complet order when I email I got respons rather quickli hour correct made I receiv free overnight ship ensur get lens promptli wonder',\n",
              " 'It quick easi order contact app I love and realli save time money make extrem happi got love free market capit',\n",
              " 'order sunday got call verifi last name recent marri schedul ship monday happi custom',\n",
              " 'took second find rx get contact order conveni',\n",
              " 'short simpl sweet super easi took less min order contact plu save',\n",
              " 'super easi not super cheap cheaper actual go optometrist good deal ship',\n",
              " 'veri use streamlin eye care need recommend contact wearer veri reliabl ship easi well',\n",
              " 'veri easi use they rememb last order I figur',\n",
              " 'thi well design easi conveni',\n",
              " 'get ad everi singl level restart frustrat potenti',\n",
              " 'the game interest challeng howev often buffer get stuck',\n",
              " 'wow play puzzl st round I rememb puzzl solv childhood love',\n",
              " 'love game delet I wait month level play I sever updat none updat ad new level',\n",
              " 'way mani aggress ad',\n",
              " 'amaz addict',\n",
              " 'I like game',\n",
              " 'I play game',\n",
              " 'It toooo gud game',\n",
              " 'too mani unskipp ad other great game',\n",
              " 'mind use game',\n",
              " 'too much ad',\n",
              " 'It great experi knowledg help game',\n",
              " 'nice game',\n",
              " 'I realli good game',\n",
              " 'I love game nice',\n",
              " 'It granit',\n",
              " 'It confus',\n",
              " 'it realli fun',\n",
              " 'Is game beauti',\n",
              " 'guid',\n",
              " 'super',\n",
              " 'yoko',\n",
              " 'It great',\n",
              " 'veri nice',\n",
              " 'good',\n",
              " 'it cool',\n",
              " 'cool',\n",
              " 'fantast',\n",
              " 'superb',\n",
              " 'excel',\n",
              " 'nice',\n",
              " 'love',\n",
              " 'fun',\n",
              " 'enjoy',\n",
              " 'love',\n",
              " 'good graphic ok way mani ad ridicul skip tbh wast time would not recommend',\n",
              " 'terribl amount ad cover content make unpleas play avoid',\n",
              " 'like the old version better where backspac Is besid P letter and emoji Is below capit',\n",
              " 'I like far',\n",
              " 'It realli use I realli like',\n",
              " 'I send emoji without say chang input I know chang input',\n",
              " 'bullsh when open app say sill never regist person data credit card number onc go activ de set messag pop say person data credit data enregistr hahha that bullsh',\n",
              " 'good',\n",
              " 'easi use best keyboard use',\n",
              " 'fuzzi',\n",
              " 'I love',\n",
              " 'perfect',\n",
              " 'awesom',\n",
              " 'thi good keyboard emoji user sensit constant nag chang theme disabl block top screen extrem irrit',\n",
              " 'last updat bug open keyboard set alway fc back old version',\n",
              " 'work fine No need updat',\n",
              " 'you',\n",
              " 'I hate',\n",
              " 'meh yeah',\n",
              " 'amaz',\n",
              " 'amaz app',\n",
              " 'good emoji keyboard',\n",
              " 'It lit',\n",
              " 'it great',\n",
              " 'love',\n",
              " 'good',\n",
              " 'love',\n",
              " 'good',\n",
              " 'the best emoji keyboard ever love',\n",
              " 'good',\n",
              " 'after updat emoji use normal',\n",
              " 'great',\n",
              " 'best keyboard never freez like keyboard ive use ive never problem use think deserv star',\n",
              " 'thi realli good go get ehh',\n",
              " 'terribl not user friendli like origin app pleas give custom option I look forward navig cumbersom app namast',\n",
              " 'deepli disappoint My free day longer work It ask high price medit I expect oprah involv scam I respect',\n",
              " 'updat look good would without ad pictur purchas product take space phone all product alreadi avail make pictur redund thank experi',\n",
              " 'I guess pleas everyon I love updat I sure idea streamlin even read full titl medit tri use there problem I love medit compar updat updat the qualiti function like compar appl orang opinion I sure look want chang feel complet mark',\n",
              " 'thi good ever I get notif phone stop medit play annoy I press play disturb medit I prefer ed upgrad',\n",
              " 'I abl listen day past frozen crash play I like upgrad point lot',\n",
              " 'love offer dislik intens keep play episod episod hour end use stop select finish much better way',\n",
              " 'seem like updat occur let access free medit experi yesterday today matter tri let frustrat',\n",
              " 'I day free medit attract At first I could see program free but updat keep show order continu I pay',\n",
              " 'I start manifest I want from nd day My medit I wholeheartedli thank deepak ji oprah bring thi excel app highli recommend',\n",
              " 'great experi user friendli navig',\n",
              " 'cool',\n",
              " 'It would best crash time the new version keep crash everi time I open app I miss day experi one I purchas I cannot access It get frustrat plu new version allow view daili medit full review',\n",
              " 'the day medit excel addit daili medit practic truli enjoy listen oprah deepak short enough anytim AM PM It would merit star ongo glitch I uninstal reinstal fix when full review',\n",
              " 'thi glitchi phone more often not say mediat fail load avail I delet reinstal sever time noth seem work frustrat',\n",
              " 'I love medit session especi I love tri medit commit buy and great custom servic there coupl reason I give star they stop support older OS smartphon lower end full review',\n",
              " 'frozen day thing w move along great I hit day stuck everyday return back day wast time new year same problem freez minut play anyth calm tran form experi',\n",
              " 'stress I download start time I got email say day expir within day I alreadi miss day I need day day medit individu time frame and I want pay deep thinker full review',\n",
              " 'updat apr I love itl reliabl consist old review late everi night I show unabl librari messag I uninst n instal nightli contact support team told work So bad',\n",
              " 'great medit two thing I wish would improv allow daili remind item purchas librari set time daili remind write journal blank space scroll It would nice instruct scroll well bc much r full review',\n",
              " 'thi total awesom littl troubl time w want go back relisten rewind record freak close start',\n",
              " 'day fine but day froze quarter way thru medit that disrupt I rather onlin version uninstal',\n",
              " 'overal easi use hous medit program I purchas place allow stream time make particip day program breez gave four star hang becom stuck sometim',\n",
              " 'regular free medit love they like spiritu teach medit I even bought quit great valu',\n",
              " 'I enjoy use complet medit anywher howev day medit seri allow journal way onlin via desktop thi huge faux pa strongli import part experi',\n",
              " 'I problem review mention thi work great I love hear oprah deepak voic calm It great addit regular practic',\n",
              " 'love music voic I like I access all medit day I miss trip I access',\n",
              " 'best app hand I love varieti sampl medit choos that mediat intro read prepar what come thi duo dynam oprah deepak forc reckon thank help becom best sel full review',\n",
              " 'the content great hard use give sens action progress seem outdat poorli made the easier need updat It shame program good',\n",
              " 'It extrem calm excel method center day It bring anxieti stress level lead progress peac energet posit mindset I highi recommend hard time reach true desir level full review',\n",
              " 'ha paid librari avail plu list free medit offer easi keep track navig doe alway allow listen download medit I internet the free experi regist I get remind I miss experi thank fix',\n",
              " 'love access medit after play day though jump back day start replay can fix glitch',\n",
              " 'I know begin I ask whatev want call life forc I receiv answer I imagin incred posit creativ flow medit gener join togeth juli the unifi field within us full review',\n",
              " 'thi good I updat now I cannot access journal entri It say journal avail medit everi day pleas fix',\n",
              " 'I love app quick easi use right size read I abl medit anywher w laptop I access email medit experi I handi app I love day experi I get time thank much',\n",
              " 'I love depend app IN journal would stay day access free medit still made signific posit impact life',\n",
              " 'nice work consist had frequent glitch bar access journal part content',\n",
              " 'thank chang permiss access when I done medit I enjoy quiet auto play anoth right away make aw loud introduct next medit thi happen night use data I catch pleas consid chang I rea full review',\n",
              " 'amaz medit session onli wish option keep expir current shred weight oprah absolut help stay track keep account',\n",
              " 'I medit oprah deepak use day medit experi sever year occasion topic practic reson enough I bought I look forward new day experi enthusiasm excit they gui full review',\n",
              " 'terribl not user friendli like origin app pleas give custom option I look forward navig cumbersom app namast',\n",
              " 'deepli disappoint My free day longer work It ask high price medit I expect oprah involv scam I respect',\n",
              " 'updat look good would without ad pictur purchas product take space phone all product alreadi avail make pictur redund thank experi',\n",
              " 'I guess pleas everyon I love updat I sure idea streamlin even read full titl medit tri use there problem I love medit compar updat updat the qualiti function like compar appl orang opinion I sure look want chang feel complet mark',\n",
              " 'thi good ever I get notif phone stop medit play annoy I press play disturb medit I prefer ed upgrad',\n",
              " 'I abl listen day past frozen crash play I like upgrad point lot',\n",
              " 'love offer dislik intens keep play episod episod hour end use stop select finish much better way',\n",
              " 'seem like updat occur let access free medit experi yesterday today matter tri let frustrat',\n",
              " 'I day free medit attract At first I could see program free but updat keep show order continu I pay',\n",
              " 'I start manifest I want from nd day My medit I wholeheartedli thank deepak ji oprah bring thi excel app highli recommend',\n",
              " 'great experi user friendli navig',\n",
              " 'cool',\n",
              " 'It would best crash time the new version keep crash everi time I open app I miss day experi one I purchas I cannot access It get frustrat plu new version allow view daili medit full review',\n",
              " 'the day medit excel addit daili medit practic truli enjoy listen oprah deepak short enough anytim AM PM It would merit star ongo glitch I uninstal reinstal fix when full review',\n",
              " 'thi glitchi phone more often not say mediat fail load avail I delet reinstal sever time noth seem work frustrat',\n",
              " 'I love medit session especi I love tri medit commit buy and great custom servic there coupl reason I give star they stop support older OS smartphon lower end full review',\n",
              " 'frozen day thing w move along great I hit day stuck everyday return back day wast time new year same problem freez minut play anyth calm tran form experi',\n",
              " 'stress I download start time I got email say day expir within day I alreadi miss day I need day day medit individu time frame and I want pay deep thinker full review',\n",
              " 'updat apr I love itl reliabl consist old review late everi night I show unabl librari messag I uninst n instal nightli contact support team told work So bad',\n",
              " 'great medit two thing I wish would improv allow daili remind item purchas librari set time daili remind write journal blank space scroll It would nice instruct scroll well bc much r full review',\n",
              " 'thi total awesom littl troubl time w want go back relisten rewind record freak close start',\n",
              " 'day fine but day froze quarter way thru medit that disrupt I rather onlin version uninstal',\n",
              " 'overal easi use hous medit program I purchas place allow stream time make particip day program breez gave four star hang becom stuck sometim',\n",
              " 'regular free medit love they like spiritu teach medit I even bought quit great valu',\n",
              " 'I enjoy use complet medit anywher howev day medit seri allow journal way onlin via desktop thi huge faux pa strongli import part experi',\n",
              " 'I problem review mention thi work great I love hear oprah deepak voic calm It great addit regular practic',\n",
              " 'love music voic I like I access all medit day I miss trip I access',\n",
              " 'best app hand I love varieti sampl medit choos that mediat intro read prepar what come thi duo dynam oprah deepak forc reckon thank help becom best sel full review',\n",
              " 'the content great hard use give sens action progress seem outdat poorli made the easier need updat It shame program good',\n",
              " 'It extrem calm excel method center day It bring anxieti stress level lead progress peac energet posit mindset I highi recommend hard time reach true desir level full review',\n",
              " 'ha paid librari avail plu list free medit offer easi keep track navig doe alway allow listen download medit I internet the free experi regist I get remind I miss experi thank fix',\n",
              " 'love access medit after play day though jump back day start replay can fix glitch',\n",
              " 'I know begin I ask whatev want call life forc I receiv answer I imagin incred posit creativ flow medit gener join togeth juli the unifi field within us full review',\n",
              " 'thi good I updat now I cannot access journal entri It say journal avail medit everi day pleas fix',\n",
              " 'simpl easi use unnecessarili wast time A good invest time person growth',\n",
              " 'I love app quick easi use right size read I abl medit anywher w laptop I access email medit experi I handi app I love day experi I get time thank much',\n",
              " 'I love depend app IN journal would stay day access free medit still made signific posit impact life',\n",
              " 'nice work consist had frequent glitch bar access journal part content',\n",
              " 'thank chang permiss access when I done medit I enjoy quiet auto play anoth right away make aw loud introduct next medit thi happen night use data I catch pleas consid chang I rea full review',\n",
              " 'amaz medit session onli wish option keep expir current shred weight oprah absolut help stay track keep account',\n",
              " 'thi good date app I love much thi lot chines english speak member most activ I chat request soon regist there advertis I chat other member freeli I use differ date app function simpl direct one user exchang contact easili those guy met nice gentl seriou feel good hope everi enjoy use app',\n",
              " 'thank friend introduc date thi chang impress date app thi first time real date real life date app I happi I satisfi qualiti app especi excel custom servic function user orient local user activ I wait long user repli match final I honestli give big like app hope enjoy app',\n",
              " 'thi seem nice need vip even send messag anoth parti thi issu user wish pay membership time It understand send msg first parti msg abl repli without problem',\n",
              " 'dont wast money becom vip ton thi scam rubbish',\n",
              " 'Fu ng app just wast time you send receiv heart sign can send receiv messag ask money messag better find anoth platform',\n",
              " 'I like date much differ date app member truli want make friend the person inform user good detail help easili understand member function interfac date simpl user friendli advertis It easi get start find someon chat directli user activ seriou I met member similar interest valu We din offlin sometim join activ other I hope everyon make friend I find half ^^',\n",
              " 'Am happi It interest hello friend I glad meet u let enjoy',\n",
              " 'well actual good thing allow match day plu filter countri u want social happen randomli chosen',\n",
              " 'nice It mani gal user friendli good date app much better other',\n",
              " 'nice It attract function member friendli best choic meet new friend',\n",
              " 'nice It attract function user nice feel good',\n",
              " 'nice mani function the best meet friend',\n",
              " 'you chat girl without pay premium wast time',\n",
              " 'chat behind paywal you unabl initi convers anyon without pay subscript fee',\n",
              " 'it hard send messag like also worst site need vip member send messag',\n",
              " 'nice It mani gal user friendli It great easi use ^_^',\n",
              " 'nice also user much friendli love',\n",
              " 'If dont want spend money date dont need make payment becom vip chat other',\n",
              " 'whi cant repli messag',\n",
              " 'A good way start someth differ',\n",
              " 'just nice sote focu want',\n",
              " 'nice It alot user',\n",
              " 'nice mani peopl insid',\n",
              " 'We even send messag anyon unless vip member pure busi',\n",
              " 'can receiv email and repli messag',\n",
              " 'thi app worthi prais still need work hard',\n",
              " 'It cool hard use hard',\n",
              " 'nice mani member I like',\n",
              " 'not good even simplest messag function need vip',\n",
              " 'doe necassari vip member sent messag other',\n",
              " 'lot fake account',\n",
              " 'realli worth tri date platform good qualiti',\n",
              " 'nice app peopl friendli like',\n",
              " 'nice mani member user activ It great easi use',\n",
              " 'It OK easi access',\n",
              " 'vosan wong',\n",
              " 'nice It mani gal user friendli well design easi ^_^',\n",
              " 'thi perfect',\n",
              " 'thank lot excel map gi I love like much It work well even without data connect help peopl Go ahead keep us',\n",
              " 'the applic much help connect Wi Fi In addit rout total transport citi huge plu',\n",
              " 'veri good app you get lost anywher',\n",
              " 'not show easili fastest rout unit arab emir take longitud latitud map coordin input everi locat uae unit arab emir need updat map latest D updat street name area locat poi restaur hotel atm',\n",
              " 'It use find offic place uae love offlin facil',\n",
              " 'love caus alway give date inform realli use',\n",
              " 'A lot intrus advertis suggest invit becom agent photograph',\n",
              " 'I ask add opportun watch buse current onlin display yandex transport',\n",
              " 'increas launch speed weak devic',\n",
              " 'need improv lot locat search suggest',\n",
              " 'I like map show abu dhabi I want add abu dhabi also possibl',\n",
              " 'previous applic eat less batteri consumpt estim phone high intens',\n",
              " 'I move anoth citi without know area everywher applic help',\n",
              " 'make life easi thank lot gi',\n",
              " 'It use it help alway find locat',\n",
              " 'noth',\n",
              " 'I wish map countri around world',\n",
              " 'alreadi coupl week buggi what happen everyth happen slowli delay Or even hang',\n",
              " 'A good applic need work updat exampl object built not',\n",
              " 'the realli good offlin navig iam visit visa dubai help lot navig search job As feedback would like develop know development activ rout chang also stop chang pleas updat',\n",
              " 'I think great u add notif app ex one two busstop till destin point peopl could leav open without check watch way like I littl paranoid scare miss stop',\n",
              " 'the applic healthi I not know much applic start hang constantli fli veri often white screen appear applic hang',\n",
              " 'everyth fine reason stop updat map for exampl exhibit econom achiev long time repair postpon transfer I hope juli updat fix noth happen',\n",
              " 'yesterday took wrong locat go meet meet got cancel delay reach right place In Al quoz dubai',\n",
              " 'thank app I often differ citi I go pleas add tashkent citi thi capit uzbakist',\n",
              " 'thi good peopl send work plz check',\n",
              " 'awesommmmmmmmmm app jst dwnld nd nji We nt get trap anywhr pakka',\n",
              " 'I alway use applic I think conveni interfac offlin map surpris I not find list citi minsk I download competitor applic',\n",
              " 'best I have ever use IN offlin mode IT work veri well IN offlin mode IN uae',\n",
              " 'constantli fli It imposs use samsung galaxi note',\n",
              " 'amaz pleas add multipl destin',\n",
              " 'cool prog not rescu',\n",
              " 'for pedestrian especi foreign citi I not know applic better but sit behind wheel impress spoil It still conveni find place not go repeatedli navig offer roll turn around I would roadway oncom traffic not mention fact navig sometim offer dirt road instead normal one I spent whole night track winter',\n",
              " 'disgust At first everyth fine I not know languag not turn say applic pereklinilo I offer twice exact opposit rout veri much I not advis IT download dare readi instead right place go eboni sure go right',\n",
              " 'best map dubai sharjah ajman pleas add abu dhabi ra Al khaima fujairah umm Al qwain',\n",
              " 'It use without internet',\n",
              " 'number ap world',\n",
              " 'alway help',\n",
              " 'amaz but also need locat abu dhabi plzzzzz',\n",
              " 'for icon thank',\n",
              " 'what wait join platform thank later',\n",
              " 'great',\n",
              " 'nice',\n",
              " 'kinda good know I find ms right',\n",
              " 'excit experi meet someon dont idea',\n",
              " 'best date ever',\n",
              " 'veri good',\n",
              " 'veri nice',\n",
              " 'nice',\n",
              " 'good',\n",
              " 'cool',\n",
              " 'good app could free featur like translat search engin set',\n",
              " 'let tri first',\n",
              " 'chat',\n",
              " 'excel',\n",
              " 'Ok',\n",
              " 'just new',\n",
              " 'veri good',\n",
              " 'I realli like could help find futur chines husband I realli want name black woman realli cool get find chines hous I find chines guy attract I need better look japanes guy cuz japanes guy got flat face',\n",
              " 'great love',\n",
              " 'good fun',\n",
              " 'simpl',\n",
              " 'awesom',\n",
              " 'good',\n",
              " 'It realli great app I found girlfriend use redbean My life much better pretti cute fit requir could imagin life us redbean highli recommend',\n",
              " 'I hate take requir send messag',\n",
              " 'thi ladi find partner when men tri make friend ladi ladi repli chat',\n",
              " 'amaz app easi intuit found half redbean highli recommend',\n",
              " 'It good full real peopl',\n",
              " 'Is hard',\n",
              " 'nice g',\n",
              " 'nice',\n",
              " 'nice app definit need pay benefit Is way filter citi see nearbi like websit',\n",
              " 'ad said free chat',\n",
              " 'hope wish come true',\n",
              " 'sweet',\n",
              " 'rubbish',\n",
              " 'thief',\n",
              " 'It good way know mani new friend I friend also pay explor new world',\n",
              " 'It realli good I problem when make groupchat tell whole groupchat email use second line creat chat send messag groupchat actul messag say email I would like fix pleas other amaz',\n",
              " 'everyday someon keep call kinda bug everi night I send guy email everi detail freakin mysteri call hope hear good news',\n",
              " 'thank fix notif problem new recent updat I give star caus I miss call text anymor',\n",
              " 'when get phone call make make person line',\n",
              " 'whenev number verif say cannot plzz tell',\n",
              " 'IT ring phone',\n",
              " 'thi aap awesom',\n",
              " 'eight',\n",
              " 'I realli like featur It realli send receiv sm call wifi G howev I queri develop whi I abl number whatsapp facebook registr whi I abl call US base landlin number rest good far thank ton',\n",
              " 'I love ad start pop use get rid ad domin entir screen I hate At least put ad corner make small realli hinder well I app',\n",
              " 'I use premium still poor qualiti call voic break badli sometim peopl even understand I tell G Wi Fi connect poorli design',\n",
              " 'I even I delet first I download co even let regist I pleas need work app',\n",
              " 'My call keep drop complet thi suck tri take care import call handl busi may abl reach person need talk',\n",
              " 'can creat account keep say An error occur tri differ email differ password noth',\n",
              " 'cant creat account tri differ email say error occur wast time uninstal',\n",
              " 'thi keep drop I open n lose signal take long load friend receiv photo I send',\n",
              " 'keep crash keep end call pleas fix On note',\n",
              " 'fix problem error occur happi give five star',\n",
              " 'I instal sign I abl make call text receiv send number I tri also canada number respons',\n",
              " 'I realli like app but I want know avail iphon',\n",
              " 'I cannot creat account alway pop connect error occur',\n",
              " 'I pay credit make intern call never reciev',\n",
              " 'It act weird sometim frustrat I need good line connect peopl',\n",
              " 'thi show error signup',\n",
              " 'allow sign fix problem',\n",
              " 'unabl sing alway show error',\n",
              " 'As error occur bata raha hai',\n",
              " 'I creat account say error occur',\n",
              " 'sweet I origin number I call text friend famili',\n",
              " 'when creat account alway show error occur',\n",
              " 'it good creat number It show error occur plz fix',\n",
              " 'error occur sign',\n",
              " 'remov add sign sure',\n",
              " 'great app you made great I enjoy I love nd line',\n",
              " 'error heck',\n",
              " 'unabl creat account',\n",
              " 'alway error',\n",
              " 'It great app easi work well',\n",
              " 'veri nice easi',\n",
              " 'good busi line now make wifi compat',\n",
              " 'It great u ad exercis I mean chest back shoulder',\n",
              " 'some time exercis match design bodi part aim work but still great',\n",
              " 'help get ideal bodi I want',\n",
              " 'alway challeng definetli worth I feel energet loos day made better power It put littl eas tell almost give good advic',\n",
              " 'veri challeng best workout far love',\n",
              " 'I disappoint confus I abl understand level beginn intermedi advanc exercis audio also work well workout full bodi workout content avail full bodi workout accur way someth satisfact',\n",
              " 'realli good show workout move',\n",
              " 'have fun brother make lot fun thank',\n",
              " 'great person train',\n",
              " 'veri help',\n",
              " 'love',\n",
              " 'I tri multipl workout I seem alway come back one the workout categor give much break need workout also rest day I realli like start easi progress day go It also connect googl fit',\n",
              " 'I start I find motiv go gym I found day good way keep gave lot motiv someth I usual struggl I calori control diet I give chocol month I lost stone I start medium silver complet hard silver I side plank second start hold second not sure I go I certainli improv thank app',\n",
              " 'I realli enjoy app I love workout option the workout get challeng progress I feel get stronger I want pay app I saw review year state free version option I would like buy I wait ensur bug fix first',\n",
              " 'can pleas tell I realli confus weight loss should follow easi medium hard level daili complet monthli',\n",
              " 'thi good gym instructor cover home exercis easili effect left exercis day remind come back It provid exercis may look effect week I love app I thank design thank much',\n",
              " 'It easi use perfect peopl look workout home you make easi hard want Do categori make longer workout like',\n",
              " 'love It simpl effect week easi program I lost inch waist I recommend friend famili I even got husband workout',\n",
              " 'I get anywher weight loss goal husband introduc app I achiev easili everi amaz transform',\n",
              " 'great app help keep track workout give tip exercis workout short get tire lot ad',\n",
              " 'just start work slow I back injuri great work pace',\n",
              " 'great app keep motiv love day challeng end sight even day',\n",
              " 'quick easi way work without go gym',\n",
              " 'I hate forc exercis everyday',\n",
              " 'help lot lose weight use sinc earli juli current lose kg hee pray keep lose weight',\n",
              " 'I realli love I like actual show',\n",
              " 'there mani ad apart workout realli effect By th day notic chang seen',\n",
              " 'thi help get back great shape I often get complement tone I look',\n",
              " 'like workout just wish varieti workout',\n",
              " 'great app easi great combin exercis keep thing interest',\n",
              " 'It diet chart also It help us accord everyon need diet also necessari',\n",
              " 'the amaz highlight within may post I download see highlight otherwis I like listen I hope guy would I suggest idea may allow user post highlight match well I hope would look thank',\n",
              " 'can log googl mani ad irit pleas remov ad fix log problem',\n",
              " 'pleas updat player list liga indonesia',\n",
              " 'great issu sort',\n",
              " 'It amaz need new design',\n",
              " 'pleas add play play score especi mlb',\n",
              " 'veri wonder applic',\n",
              " 'It best work I use',\n",
              " 'I live colorado spring colorado need I say',\n",
              " 'excel',\n",
              " 'better brainless runner actual make think',\n",
              " 'It cool game I like much help develop concentr',\n",
              " 'excel realli tough higher cpu level',\n",
              " 'It great game keep u busi hour obvious u know play',\n",
              " 'simpl game pass time away My grandson like',\n",
              " 'great way waist time',\n",
              " 'great',\n",
              " 'connect four V good',\n",
              " 'bore all put chip hole let win',\n",
              " 'super fun game realli good brain game',\n",
              " 'It bore thi game sooooo bore _',\n",
              " 'could made better improv manoeuvr',\n",
              " 'addict I play almost everi day year A great version',\n",
              " 'row who knew row could fun',\n",
              " 'keep busi',\n",
              " 'love game rock',\n",
              " 'nice simpl game',\n",
              " 'love',\n",
              " 'ive play level three time then I program AI C I let go second level fifteen time I could make suggest improv evalu function like It use concept zugzwang accur',\n",
              " 'nice wallpap not k even k present they hardli fullhd perhap scale k make look graini blurri would recommend phone screen resolut higher full HD nice collect great qualiti unfortun',\n",
              " 'the refresh function scrambl excist wallpap who fool lot wallpap bad qualiti don wast time',\n",
              " 'awesom app wallpap vibrant exclus mostli but excess ad make miser wallpap pleas least reduc',\n",
              " 'would better add anim wallpap overal good daili updat wallpap',\n",
              " 'thi true k wallpap great varieti new wallpap must ad frequent',\n",
              " 'It good better k pictur',\n",
              " 'superb love wallpap give confid whenev look',\n",
              " 'thi realli cool amaz graphic realli enjoy scroll threw look',\n",
              " 'gd bad',\n",
              " 'thi good search hous',\n",
              " 'thi app basic landlord seller orient design user friendli It not easi tenant search It fill bunch advertis fake landlord agent for advertis may main sourc incom design tenant buyer not easi search hous compani not care tenant live want advertis revenu So will consid conveni use search So strongli not recommend use app search hous',\n",
              " 'I given exampl what els unclear are not make money what debug user help would like send case search screen littl rotten find result team screen not screen for exampl search taichung citi map mode independ suit screen open fire balconi find bunch non conform condit',\n",
              " 'map mode see number object approxim locat click view page object I troubl thank moto Z play android',\n",
              " 'It also telephon inform also set becom troublesom necessari us not download use app',\n",
              " 'rotten push broadcast push rotten',\n",
              " 'need phone permiss No way',\n",
              " 'No english such shame',\n",
              " 'person collect synchron web version the account ad collect comput after app log none synchron',\n",
              " 'essenti thi essenti foreign live taiwan sure english version creat simpl translat app I speak mandarin would almost imposs read fine line pleas get work',\n",
              " 'app post top let',\n",
              " 'what guy tencent there folder call tencent tpush instal root directori intern storag updat latest version the log directori show receiv push content com tencent andriod tpush action sdk your show taiwan compani guy tencent I trust chines compani I choic uninstal app',\n",
              " 'languag Is english option',\n",
              " 'pleas fix updat hous inform not seen rental hous',\n",
              " 'request english version pleas',\n",
              " 'look filter criteria better store filter criteria futur',\n",
              " 'too mani ad',\n",
              " 'A lot time lot time manag easi take care',\n",
              " 'still room improv',\n",
              " 'I turn notif still keep post',\n",
              " 'locat correct',\n",
              " 'good',\n",
              " 'not friendli english speaker onli english interfac appli content not suitabl english speaker',\n",
              " 'realli help app',\n",
              " 'So far I like the option talk get help connect great howev qite bug glitch I sure upgrad would offer wouldnt consid bug work thi great idea could help mani peopl pleas fix bug',\n",
              " 'It realli awesom app when I problem I alway talk peopl make feel better thank',\n",
              " 'yeah cup fine glitchi sometim less featur avail',\n",
              " 'quick honest respons',\n",
              " 'veri help',\n",
              " 'I huge issu call listen these peopl idea go spread misinform mental health lack empathi never repli when I polit told listen unhelp told therapi useless joke block I serious hope peopl never go advic support careless knowledg issu I discuss even though I found ocd categori pleas train listen properli',\n",
              " 'boy super buggi slow slow fact sure still run not the listen nice gener that actual connect one It show mani listen avail activ and veri pushi constantli tri get pay therapist app',\n",
              " 'thi absolut amaz It heal help anxieti depress it hard peopl say stop wimp there peopl real problem thoos problem It feel nice vent everyth',\n",
              " 'simpl way view eat get better idea habit for reason though crash girlfriend I everi singl time open We open close error open everi time It infuri hasn updat year I dont know still develop abandonwar they still happi charg month though',\n",
              " 'good app work often repeat error messag close abruptli',\n",
              " 'could open week constant crash No respons develop fb page howev work great',\n",
              " 'wa pointless download I instal find day free trial start pay monthli',\n",
              " 'I enjoy app wish crash everi time I tri go back',\n",
              " 'havent abl open ver week',\n",
              " 'not great busi model It list free realli not I use sinc twogrand I love I disappoint fee mislabel free I rather free ad option pay ad free version',\n",
              " 'thi use free call two grand you could see other meal they chang mani time suck',\n",
              " 'say complet free not It free day per month I get free day complet impli without restrict work fine take pictur food',\n",
              " 'I like pace varieti I hear timer music play mute music updat nice app',\n",
              " 'superb app offic goin staff businessman less time mint exercis keep bodi fit act like instructor u enjoy good',\n",
              " 'thi great remind workout It tailor abil I wish preview workout video form start workout',\n",
              " 'So far good It got everyth I need simpl well illustr exercis lite voic time It stay I might tempt get ad free version soon',\n",
              " 'I love app realli keep motiv better physic super easi home',\n",
              " 'should put tim hard plan fr complet within minut idea wen rest within exercis',\n",
              " 'few blip audio imag great quick way stay littl activ',\n",
              " 'I love much interest easi without need go gym',\n",
              " 'just first time I feel exhaust good job',\n",
              " 'great app minut defin make sweat',\n",
              " 'It good want exercis',\n",
              " 'bland bore even paid level not recommend till add featur wish field new habit section add detail also abil colour code habit organ better perhap categori section sort habit ie habit improv school life work life etc Un instal till thing ad',\n",
              " 'minimalist effeci the exactli advertis the design sleek instruct clear I switch anoth complic object tracker work time week date night week option skip day that rewir tad better manag but tire',\n",
              " 'wonder thi done amaz thing perfectionist attitud I use make long imposs complet list I finish everyday I felt like failur now I list coupl thing I finish day final from time time add coupl new thing I abl finish list I feel free fail everyday thank much creat app',\n",
              " 'thi work wonder the problem I find I think current day bit lag behind sometim I get earli still highlight previou day but big issu asid perfect highli recommend anyon want track habit',\n",
              " 'small bug I yet start realli use concept seem good I set habit start date week yet I get daili notif like while I appreci motiv spirit save habit start date',\n",
              " 'been use whole year almost everyday goddamn I without I write review often deserv prais given amaz app intuit easi use',\n",
              " 'great concept but I also think thing front everyday feel like like look posit way do pushup best target smoke anyth advic mayb develop take innov way think solut',\n",
              " 'I like tri habit bull fabul Me etc the interfac workflow much focus overwhelm but thing almost habit tracker miss complement I hope week among first sinc I invest bought premium version',\n",
              " 'I think great app but much cheaper calendar phone notebook I think worth money but great concept tho especi peopl realli struggl bad certain addict much love app but I uninstal thank tho',\n",
              " 'I bought plu version I love great altern notecard I activ widget suggest when reach end habit habit break time set creation habit say you complet habit forc reset I wish could choos continu indefinit without time goal set also set habit break time mark lot day incomplet end time still see you complet habit realli true I wish punish incomplet day sever mayb time goal reset mayb someth less dramat',\n",
              " 'it habit tracker habit motiv allow name make person habit like I want upgrad clash clan build everi morn let name habit make So star',\n",
              " 'complet goal give red X usual neg symbol I feel good see there also seem way set goal specif day everi day thi mean I forc break streak I take rest day make feel bad',\n",
              " 'nought cross when achiev task assign X day O miss can chang lot cross look like lot wrong therefor lot miss the circl end look posit whi I choos icon Or green circl achiev red miss',\n",
              " 'it great app simpl clear the remind realli help realli help chang habit one thing I like would abl altern day So yoga day run next',\n",
              " 'the better pool game googl play slightli buggi when oppon connect stabl suddenli say I run time even though I made shot It also seem support push the timer need b obviou run',\n",
              " 'hate get cue piec max cue realli wish guy would chang keep get n hr box cairo delhi n end get piec I use complet wast time chang n review goe back star',\n",
              " 'game alright bit sketchi either oppon bad connect the pool cue power bar need look It annoy I tri get right amount power suddenli start move angl finger move bar',\n",
              " 'Hi realli like game I tri ti purchas halloween pack twice amount got deduct bank account transact pool show declin could u pleas let knw whether get pack money back',\n",
              " 'worst server iran from first time I tri game I acout messag connect slow I tri best network iran recent even connect game time pleas consid better server caus mani iranian love game',\n",
              " 'I previou profil howev updat I lost million coin rank how sad frustrat I start If ball fix I give five star',\n",
              " 'love game I issu request gift club advis I restart phone close open even check updat ani help would great work fine today',\n",
              " 'So want enjoy game hack death mani peopl becom bore you pot ball back u start turn super fast fiber bb connect badli maintain app',\n",
              " 'realli love I wish like real pool If sink stripe break stripe and suck get beat someon shoot random win shoot full power hope sink ball everi pocket call other I love',\n",
              " 'realli what I think game awesom I play tabl pool time thi game real life pool peopl complain control develop fault individu fault If know manipul easi pool peac men',\n",
              " 'sorri greedi I love game sinc I start now club creat go differ club the game would outstand happen I rate star get attent sorri',\n",
              " 'realli good addict game Me girlfriend constantli play downfal sometim watch video free money dont emd get ha happen numer time great game',\n",
              " 'game cut sometim u loos turn sometim caus match loss also spend money recharg stick what I play real bca pool A effort B effect',\n",
              " 'I actual addict game seem wierd critic time game I go win match game shut time I get reboot I lost onli time ever critic moment I never play promis the game total rig that perfectli clear spin wheel alway land low what chanc otherwis rig',\n",
              " 'I have use the daili spin time I never got coin game tell buy better spin same box So shame not fair not fair serious out mani spin get noth good I unlucki',\n",
              " 'I hundr coin I new I even I win game player back I play I wait player back I still get extra coin win So go abl play day till I build coin',\n",
              " 'the indian cheat you see can option choos oppon base I wish play million cheat indian permantli onlin',\n",
              " 'I instal trip I thought I would wifi I So I decid practic offlin mode sadli game money play offlin I want wast when I got back I tri actual game work fine middl game close did I mention take forev load By time I got back I alreadi lost thi happen I lost money I realli feel like play anymor',\n",
              " 'It made chicken eat mice too mani conveni bug big game free spin joke whi I wait oppon respons lot flaw not sure rig seem like',\n",
              " 'I give star everytim I offer free cash never goe I get level requir still NO reward I issu either sever friend problem quit offer',\n",
              " 'I enjoy game much last game ive play either taken money automat said oppon im game take shot say ran time automat win fix problem ill rate star there mani lag game like monaco lag dozen like somehow manag buy cue twice end bare money',\n",
              " 'I use love gsme now much I made purchas and didnt receiv purchas also coin csme gone without approv thi need fix I spent lot money thru googl play angri If isnt fix soon purchas coin replac delet gsme take action miniclip hsppi',\n",
              " 'realli love I wish like real pool If sink stripe break stripe and suck get beat someon shoot random win shoot full power hope sink ball everi pocket call other I love',\n",
              " 'the spin wheel rig other dont get play peopl rank dont get rank refund coin they cant dissapear veri addict game entertain howev coin finish request gift peopl onlin appear Do someth hourli bonu someth player keep play without actual purchas coin play',\n",
              " 'the best game want say point I want say creator game add voic convers option game make excit add option watch other game tournament play some time get bore you win quaterfin semifin final match oppon st match So bore fell everyon So I suggest add featur see other game tournament match',\n",
              " 'love new club cool club actual prize like sticker shirt cue hat honesti anyth would cool advertis spread word game game prize like cue big coin mini game chat custom tabl u challeng someon would dope diffent need new profil pic win purchas keep see lame one anyth make custom player anyth player win would major upgrad sure must game classic mine year',\n",
              " 'best pool game ever awar hacker get credit card readi and pay money best money make machin creator owner they need coupl privat jet mani time you accid push million game don`t want play high stake and I think friend that plan bastard',\n",
              " 'the better pool game googl play slightli buggi when oppon connect stabl suddenli say I run time even though I made shot It also seem support push the timer need b obviou run',\n",
              " 'hate get cue piec max cue realli wish guy would chang keep get n hr box cairo delhi n end get piec I use complet wast time chang n review goe back star',\n",
              " 'game alright bit sketchi either oppon bad connect the pool cue power bar need look It annoy I tri get right amount power suddenli start move angl finger move bar',\n",
              " 'Hi realli like game I tri ti purchas halloween pack twice amount got deduct bank account transact pool show declin could u pleas let knw whether get pack money back',\n",
              " 'awesom like look see nickatnyt play molt glad ad club game need one thing though player get hope win big daili spin It rig get low prize',\n",
              " 'I realli enjoy play great graphic never problem connect issu cheat howev spin wheel never land anyth wish lower level option guidelin call pocket hate lose oppon slop shot',\n",
              " 'the free spin joke there slot lower alway land odd say control u spend money seem like play ton bot where american',\n",
              " 'realli what I think game awesom I play tabl pool time thi game real life pool peopl complain control develop fault individu fault If know manipul easi pool peac men',\n",
              " 'worst server iran from first time I tri game I acout messag connect slow I tri best network iran recent even connect game time pleas consid better server caus mani iranian love game',\n",
              " 'funni game never see cue batteri insid you earn upgrad pay coin stupid but recharg cue u use stupid thing back star keep ask rate game stil noth improv call pocket game pot ball wrong pocket ball hand oppon lose turn',\n",
              " 'I previou profil howev updat I lost million coin rank how sad frustrat I start If ball fix I give five star',\n",
              " 'I love game just thing want review regard account deactiv reset delet you made complic If avail game set b awesom last thing regard name chang eventhought chang name facebook miniclip account still noth chang game us option If could fix rate star I sure whether realli look problem begin anyway thankyou team',\n",
              " 'take money differ rate coin I went game lost round come money gone also offer get coin dont get fix glitch idiot want coin back',\n",
              " 'great game use play mini clip year ago took star I cant block peopl play poorli Ie purpos scratch break scratch caus dont shot dont play like bitch',\n",
              " 'I play pool game stand alon you buy anyth progress faster IF choos the onli thing I would improv game bigger bonus you know time get get the new club addit work fine addit game definit pool game get addict I',\n",
              " 'sorri greedi I love game sinc I start now club creat go differ club the game would outstand happen I rate star get attent sorri',\n",
              " 'the game get better slowli I still never got back million coin lost due hacker affect everyon back and design still made option turn daili deal post fb play someon new those popup seem keep happen frequent get annoy A lot peopl would agre option',\n",
              " 'love game I issu request gift club advis I restart phone close open even check updat ani help would great work fine today',\n",
              " 'So want enjoy game hack death mani peopl becom bore you pot ball back u start turn super fast fiber bb connect badli maintain app',\n",
              " 'realli good addict game Me girlfriend constantli play downfal sometim watch video free money dont emd get ha happen numer time great game',\n",
              " 'It good game the spin win wheel definit rig the highest I ever gotten coin also I use wait second open pro box I wait hour I disappoint situat',\n",
              " 'game cut sometim u loos turn sometim caus match loss also spend money recharg stick what I play real bca pool A effort B effect',\n",
              " 'I actual addict game seem wierd critic time game I go win match game shut time I get reboot I lost onli time ever critic moment I never play promis the game total rig that perfectli clear spin wheel alway land low what chanc otherwis rig',\n",
              " 'I have use the daili spin time I never got coin game tell buy better spin same box So shame not fair not fair serious out mani spin get noth good I unlucki',\n",
              " 'I hundr coin I new I even I win game player back I play I wait player back I still get extra coin win So go abl play day till I build coin',\n",
              " 'the indian cheat you see can option choos oppon base I wish play million cheat indian permantli onlin',\n",
              " 'I instal trip I thought I would wifi I So I decid practic offlin mode sadli game money play offlin I want wast when I got back I tri actual game work fine middl game close did I mention take forev load By time I got back I alreadi lost thi happen I lost money I realli feel like play anymor',\n",
              " 'It made chicken eat mice too mani conveni bug big game free spin joke whi I wait oppon respons lot flaw not sure rig seem like',\n",
              " 'I give star everytim I offer free cash never goe I get level requir still NO reward I issu either sever friend problem quit offer',\n",
              " 'I enjoy game much last game ive play either taken money automat said oppon im game take shot say ran time automat win fix problem ill rate star there mani lag game like monaco lag dozen like somehow manag buy cue twice end bare money',\n",
              " 'I use love gsme now much I made purchas and didnt receiv purchas also coin csme gone without approv thi need fix I spent lot money thru googl play angri If isnt fix soon purchas coin replac delet gsme take action miniclip hsppi',\n",
              " 'the spin wheel rig other dont get play peopl rank dont get rank refund coin they cant dissapear veri addict game entertain howev coin finish request gift peopl onlin appear Do someth hourli bonu someth player keep play without actual purchas coin play',\n",
              " 'the best game want say point I want say creator game add voic convers option game make excit add option watch other game tournament play some time get bore you win quaterfin semifin final match oppon st match So bore fell everyon So I suggest add featur see other game tournament match',\n",
              " 'love new club cool club actual prize like sticker shirt cue hat honesti anyth would cool advertis spread word game game prize like cue big coin mini game chat custom tabl u challeng someon would dope diffent need new profil pic win purchas keep see lame one anyth make custom player anyth player win would major upgrad sure must game classic mine year',\n",
              " 'best pool game ever awar hacker get credit card readi and pay money best money make machin creator owner they need coupl privat jet mani time you accid push million game don`t want play high stake and I think friend that plan bastard',\n",
              " 'the better pool game googl play slightli buggi when oppon connect stabl suddenli say I run time even though I made shot It also seem support push the timer need b obviou run',\n",
              " 'hate get cue piec max cue realli wish guy would chang keep get n hr box cairo delhi n end get piec I use complet wast time chang n review goe back star',\n",
              " 'game alright bit sketchi either oppon bad connect the pool cue power bar need look It annoy I tri get right amount power suddenli start move angl finger move bar',\n",
              " 'Hi realli like game I tri ti purchas halloween pack twice amount got deduct bank account transact pool show declin could u pleas let knw whether get pack money back',\n",
              " 'awesom like look see nickatnyt play molt glad ad club game need one thing though player get hope win big daili spin It rig get low prize',\n",
              " 'I realli enjoy play great graphic never problem connect issu cheat howev spin wheel never land anyth wish lower level option guidelin call pocket hate lose oppon slop shot',\n",
              " 'the free spin joke there slot lower alway land odd say control u spend money seem like play ton bot where american',\n",
              " 'realli what I think game awesom I play tabl pool time thi game real life pool peopl complain control develop fault individu fault If know manipul easi pool peac men',\n",
              " 'I actual addict game seem wierd critic time game I go win match game shut time I get reboot I lost onli time ever critic moment I never play promis the game total rig that perfectli clear spin wheel alway land low what chanc otherwis rig',\n",
              " 'worst server iran from first time I tri game I acout messag connect slow I tri best network iran recent even connect game time pleas consid better server caus mani iranian love game',\n",
              " 'funni game never see cue batteri insid you earn upgrad pay coin stupid but recharg cue u use stupid thing back star keep ask rate game stil noth improv call pocket game pot ball wrong pocket ball hand oppon lose turn',\n",
              " 'I previou profil howev updat I lost million coin rank how sad frustrat I start If ball fix I give five star',\n",
              " 'I love game just thing want review regard account deactiv reset delet you made complic If avail game set b awesom last thing regard name chang eventhought chang name facebook miniclip account still noth chang game us option If could fix rate star I sure whether realli look problem begin anyway thankyou team',\n",
              " 'take money differ rate coin I went game lost round come money gone also offer get coin dont get fix glitch idiot want coin back',\n",
              " 'great game use play mini clip year ago took star I cant block peopl play poorli Ie purpos scratch break scratch caus dont shot dont play like bitch',\n",
              " 'I play pool game stand alon you buy anyth progress faster IF choos the onli thing I would improv game bigger bonus you know time get get the new club addit work fine addit game definit pool game get addict I',\n",
              " 'sorri greedi I love game sinc I start now club creat go differ club the game would outstand happen I rate star get attent sorri',\n",
              " 'the game get better slowli I still never got back million coin lost due hacker affect everyon back and design still made option turn daili deal post fb play someon new those popup seem keep happen frequent get annoy A lot peopl would agre option',\n",
              " 'love game I issu request gift club advis I restart phone close open even check updat ani help would great work fine today',\n",
              " 'So want enjoy game hack death mani peopl becom bore you pot ball back u start turn super fast fiber bb connect badli maintain app',\n",
              " 'realli good addict game Me girlfriend constantli play downfal sometim watch video free money dont emd get ha happen numer time great game',\n",
              " 'It good game the spin win wheel definit rig the highest I ever gotten coin also I use wait second open pro box I wait hour I disappoint situat',\n",
              " 'game cut sometim u loos turn sometim caus match loss also spend money recharg stick what I play real bca pool A effort B effect',\n",
              " 'I have use the daili spin time I never got coin game tell buy better spin same box So shame not fair not fair serious out mani spin get noth good I unlucki',\n",
              " 'I hundr coin I new I even I win game player back I play I wait player back I still get extra coin win So go abl play day till I build coin',\n",
              " 'the indian cheat you see can option choos oppon base I wish play million cheat indian permantli onlin',\n",
              " 'I instal trip I thought I would wifi I So I decid practic offlin mode sadli game money play offlin I want wast when I got back I tri actual game work fine middl game close did I mention take forev load By time I got back I alreadi lost thi happen I lost money I realli feel like play anymor',\n",
              " 'It made chicken eat mice too mani conveni bug big game free spin joke whi I wait oppon respons lot flaw not sure rig seem like',\n",
              " 'I give star everytim I offer free cash never goe I get level requir still NO reward I issu either sever friend problem quit offer',\n",
              " 'I enjoy game much last game ive play either taken money automat said oppon im game take shot say ran time automat win fix problem ill rate star there mani lag game like monaco lag dozen like somehow manag buy cue twice end bare money',\n",
              " 'I know deal phone shut turn back I play game keep happen while I play big money game other I like game',\n",
              " 'I use love gsme now much I made purchas and didnt receiv purchas also coin csme gone without approv thi need fix I spent lot money thru googl play angri If isnt fix soon purchas coin replac delet gsme take action miniclip hsppi',\n",
              " 'the spin wheel rig other dont get play peopl rank dont get rank refund coin they cant dissapear veri addict game entertain howev coin finish request gift peopl onlin appear D full review',\n",
              " 'the best game want say point I want say creator game add voic convers option game make excit add option watch other game tournament play some time get bore you win quaterfin semifin final match oppon st match So bore fell everyon So I suggest add featur see other game tournament match',\n",
              " 'love new club cool club actual prize like sticker shirt cue hat honesti anyth would cool advertis spread word game game prize like cue big coin mini game chat custom tabl u challeng someon would dope diffent need new profil pic win purchas keep see lame one anyth make custom player anyth player win would major upgrad sure must game classic mine year',\n",
              " 'best pool game ever awar hacker get credit card readi and pay money best money make machin creator owner they need coupl privat jet mani time you accid push million game don`t want play high stake and I think friend that plan bastard',\n",
              " 'the better pool game googl play slightli buggi when oppon connect stabl suddenli say I run time even though I made shot It also seem support push the timer need b obviou run',\n",
              " 'hate get cue piec max cue realli wish guy would chang keep get n hr box cairo delhi n end get piec I use complet wast time chang n review goe back star',\n",
              " 'game alright bit sketchi either oppon bad connect the pool cue power bar need look It annoy I tri get right amount power suddenli start move angl finger move bar',\n",
              " 'Hi realli like game I tri ti purchas halloween pack twice amount got deduct bank account transact pool show declin could u pleas let knw whether get pack money back',\n",
              " 'awesom like look see nickatnyt play molt glad ad club game need one thing though player get hope win big daili spin It rig get low prize',\n",
              " 'I realli enjoy play great graphic never problem connect issu cheat howev spin wheel never land anyth wish lower level option guidelin call pocket hate lose oppon slop shot',\n",
              " 'the free spin joke there slot lower alway land odd say control u spend money seem like play ton bot where american',\n",
              " 'realli what I think game awesom I play tabl pool time thi game real life pool peopl complain control develop fault individu fault If know manipul easi pool peac men',\n",
              " 'I actual addict game seem wierd critic time game I go win match game shut time I get reboot I lost onli time ever critic moment I never play promis the game total rig that perfectli clear spin wheel alway land low what chanc otherwis rig',\n",
              " 'worst server iran from first time I tri game I acout messag connect slow I tri best network iran recent even connect game time pleas consid better server caus mani iranian love game',\n",
              " 'funni game never see cue batteri insid you earn upgrad pay coin stupid but recharg cue u use stupid thing back star keep ask rate game stil noth improv call pocket game pot ball wrong pocket ball hand oppon lose turn',\n",
              " 'I previou profil howev updat I lost million coin rank how sad frustrat I start If ball fix I give five star',\n",
              " 'I love game just thing want review regard account deactiv reset delet you made complic If avail game set b awesom last thing regard name chang eventhought chang name facebook miniclip account still noth chang game us option If could fix rate star I sure whether realli look problem begin anyway thankyou team',\n",
              " 'take money differ rate coin I went game lost round come money gone also offer get coin dont get fix glitch idiot want coin back',\n",
              " 'great game use play mini clip year ago took star I cant block peopl play poorli Ie purpos scratch break scratch caus dont shot dont play like bitch',\n",
              " 'I play pool game stand alon you buy anyth progress faster IF choos the onli thing I would improv game bigger bonus you know time get get the new club addit work fine addit game definit pool game get addict I',\n",
              " 'sorri greedi I love game sinc I start now club creat go differ club the game would outstand happen I rate star get attent sorri',\n",
              " 'the game get better slowli I still never got back million coin lost due hacker affect everyon back and design still made option turn daili deal post fb play someon new those popup seem keep happen frequent get annoy A lot peopl would agre option',\n",
              " 'love game I issu request gift club advis I restart phone close open even check updat ani help would great work fine today',\n",
              " 'So want enjoy game hack death mani peopl becom bore you pot ball back u start turn super fast fiber bb connect badli maintain app',\n",
              " 'realli good addict game Me girlfriend constantli play downfal sometim watch video free money dont emd get ha happen numer time great game',\n",
              " 'It good game the spin win wheel definit rig the highest I ever gotten coin also I use wait second open pro box I wait hour I disappoint situat',\n",
              " 'game cut sometim u loos turn sometim caus match loss also spend money recharg stick what I play real bca pool A effort B effect',\n",
              " 'I have use the daili spin time I never got coin game tell buy better spin same box So shame not fair not fair serious out mani spin get noth good I unlucki',\n",
              " 'I hundr coin I new I even I win game player back I play I wait player back I still get extra coin win So go abl play day till I build coin',\n",
              " 'the indian cheat you see can option choos oppon base I wish play million cheat indian permantli onlin',\n",
              " 'I instal trip I thought I would wifi I So I decid practic offlin mode sadli game money play offlin I want wast when I got back I tri actual game work fine middl game close did I mention take forev load By time I got back I alreadi lost thi happen I lost money I realli feel like play anymor',\n",
              " 'It made chicken eat mice too mani conveni bug big game free spin joke whi I wait oppon respons lot flaw not sure rig seem like',\n",
              " 'I give star everytim I offer free cash never goe I get level requir still NO reward I issu either sever friend problem quit offer',\n",
              " 'I enjoy game much last game ive play either taken money automat said oppon im game take shot say ran time automat win fix problem ill rate star there mani lag game like monaco lag dozen like somehow manag buy cue twice end bare money',\n",
              " 'I know deal phone shut turn back I play game keep happen while I play big money game other I like game',\n",
              " 'I use love gsme now much I made purchas and didnt receiv purchas also coin csme gone without approv thi need fix I spent lot money thru googl play angri If isnt fix soon purchas coin replac delet gsme take action miniclip hsppi',\n",
              " 'game suck freez can play too mani problem mention and ad like game don plan play delet asap pleas want sain',\n",
              " 'realli love I wish like real pool If sink stripe break stripe and suck get beat someon shoot random win shoot full power hope sink ball everi pocket call other I love',\n",
              " 'game awesom sever bug fix and annoy thing I might spin wheel time prize I got coin whi prize show the minigam I love Hi Li option chang ball cash current first ball hope see chang soon game',\n",
              " 'all type glitch clock aim cue stroke cue player hack game By put updat mode lose game allow collect win advanc you must wait hour If choos leav updat mode lose win previous game even though screen lock It lame',\n",
              " 'So far great game I havent swarm ad usual everi game I thoroughli enjoy gameplay long time fan pool great play friend good time killer',\n",
              " 'the spin model correctli backspin noth and number time I watch ball pot slower ball hit oppon go On top white ball roll way much even low power On top I pretti sure rule game model incorrect someth tk watch other major physic rule base issu actual fun game play',\n",
              " 'two screen show match frustrat unnecessari especi sec delay right match X player win well understood coin get transfer',\n",
              " 'call ball pool rule make ball pool absent for instanc make break pull put right back center tabl scratch lose game unless made make ball break tabl still open get choos want make break follow make anoth ball still open game suck dick go tri compar ball pool sinc premis game miss complet ball pool built fact make ball break scratch win fun game ball pool even allow name',\n",
              " 'I keep get request gift even though person say sent never sent I know today I got request friend pass away coupl month ago absolut disgust star',\n",
              " 'veri good game I good I wish aim graphic longer aim line It would nice tutori make shot hit cue english cue',\n",
              " 'love game I spend alot time play I good understand tri make money I sure blunti coiner but game pretti set win id win would think have smoke coiner would spend wise great game fond cheat prevent set win',\n",
              " 'I hate fact win get ball break that real pool anywher world I hate I play game I get stuck play someon doubl level match level other cool',\n",
              " 'nice game away time I alreadi addict time countri slow network make inevit lose interest game I alreadi advantag great game fabul graphic',\n",
              " 'game bad compani tri hardest get hard earn dollar return tri creat new account everi day day I guarante everi first wheel spin scratcher I time row result crook ss compani I feel bad peopl give compani money mini game obvious rig they chang game still rig they rot H',\n",
              " 'whi I wait oppon I readi shoot also noth bunch amateur slam ball around tabl get lucki block shot',\n",
              " 'No matter much updat still cant get physic real pool king pool alot peopl anyon want play real pool realist switch gane po like',\n",
              " 'I think game would good choos countri player also f g cheater like foreign countri like india need ban It make game realli unenjoy play cheat hole quit game get away give win I think develop need crack lousi tallent player I would keep track report I D number give develop I thought would help the develop problem take money care integr game honest player believ better pool game eventu everyon go one I know I wii problem keep',\n",
              " 'the game rig complet spin wheel never pay big the extra guidelin remov certain level shot defi basic law physic matter',\n",
              " 'A classic cant beat good quick game ball even rooki noobi enjoy realli learn curv onli downsid requir connect play',\n",
              " 'I realli enjoy play game I sometim feel like I addict the spin howev kinda like prank push earn coin legitim thank develop great game inde',\n",
              " 'when play game n suddenli hv rcv miss call game loss connect N kp connect that main problem otherwis game good thank',\n",
              " 'it good game but cue realli hard unlock and spin get coin less I would rate higher chang',\n",
              " 'great game contain mani bug struck play suggest mani unnecessari display middl game today I play game even I game declar oppon winner It eat ram intern memori cach make smart phone lag',\n",
              " 'fun game rig I dont mind spend money game constantli lose take money rig I spent money never receiv coin etc occas No refund either',\n",
              " 'it awesom game veri realist addict onli thing suck connect problem player name mohammad mohammad moham md rig match I think match rig',\n",
              " 'the game becam passion I want give five star challeng keep charm the game I play ever far candi crush',\n",
              " 'I start love app st I put cash It took week realiz half game program real peopl fake player thi drive sale swindl bad otherwis real great product I put cash month first thing happen everi bet I make K fix loss I lost million unfair game AI peopl I still play game fix thumb',\n",
              " 'I would give star took away lag freez everi second phone game bring reason give star time time origin pool time fact freez everi second go well fact time timer keep go even though stop everyth els pretti good',\n",
              " 'the game continu take coin reason most peopl mod pocket ball weight way mess fix bug fix remov modder game would fun',\n",
              " 'good game club free spin stuff like howev not let log fb googl friend fb googl stubborn im go differ pool game',\n",
              " 'fun game onli bad thing hard play game cost half million take long get much coin',\n",
              " 'first need work rotat screen your game cannot provid doubl side full screen support major drawback',\n",
              " 'some pay win aspect also work way buy good que game dollar earn free day I would like supris box bit fairer order level pay win player overal great addict game',\n",
              " 'hardest infin addict game whenev I bore want spend time I play game tension free onc start I abl leav game awesom game till I play',\n",
              " 'I simpli idea oppon player pick logic and mani compuls make purchas someth',\n",
              " 'U must put hondura cue seem like took time read review abl challeng amount money coin u happen',\n",
              " 'the thing I would like see done Is lower level player get stuck higher level and game wheel hit big number small number ever time',\n",
              " 'great game I drop star new updat club glitchi club leaderboard constantli display inaccur amount exampl said I mil Id mil went mil drop sinc ive bill say ive someth million make sens that near even half ive whilst club profit margin ive either pleas fix',\n",
              " 'after year still need work not best game ok I guess',\n",
              " 'It good game day I becom addict onli complain get daili spin are reward show daili spin',\n",
              " 'If got call play It automat enter home It irrit solv issu',\n",
              " 'I happi break ball mani time I get break game continu',\n",
              " 'keep de sync mid game player constantli disconnect and connect otherwis would given least star',\n",
              " 'game play total bogu just win game stall say slow connect when Wi Fi say I excel connect total B S',\n",
              " 'would much better I could easili make pic facebook profil It littl thing like bring',\n",
              " 'everi thing nice admin plzzz help upload facebook photo im mayb year old player ball wrong u help admin plzzz',\n",
              " 'would better ball break win rather spot back tabl A break win eight',\n",
              " 'It alway make winner oppon network issu doesn matter network issu belong oppon hate',\n",
              " 'love game until I updat now open even allow practic offlin pretti disappoint spend much time build stat gain level etc I guess option uninstal not cool',\n",
              " 'It pretti good game I notic need pay way much attent power pool stick along shot timer much',\n",
              " 'spin nd purchas r rig develop the scratch n win never give reward and poor gameplay high level player keep get benifit nt gud',\n",
              " 'ever sinc I updat I lose game time run much faster half time show I still time clock turn end abruptli say I ran time Or I middl aim cue disappear time run that frustrat edit I play game straight w break thi worst pool game',\n",
              " 'fun game cue upgrad littl thing take beyond pool game also spam ad like free game',\n",
              " 'sir new updat awesom u solv issu issu play well club last time kickout mani member u plzz solv issu plzz sir',\n",
              " 'great addict game one thing guy improv vip thingi make differ gold also spin thing alway get',\n",
              " 'love game with love graphic control If look past flashi sale pitch haunt free play game amaz I wish paid version without push messag sale stuff',\n",
              " 'I love game get troubl everyday the thing wrong straight shot make pocket',\n",
              " 'thi fu king stupid glitch much advic instal fuc ing stupid game wast time',\n",
              " 'not play game anymor default lobbi max chip not mention even confirm window thi make three time I accident select game risk chip I absolut want If someon select lobbi play within default back highest everi singl time just anoth way potenti lose chip buy reinto smh',\n",
              " 'the spin wheel rig other dont get play peopl rank dont get rank refund coin they cant dissapear veri addict game entertain howev coin finish request gift peopl onlin appear Do someth hourli bonu someth player keep play without actual purchas coin play',\n",
              " 'the best game want say point I want say creator game add voic convers option game make excit add option watch other game tournament play some time get bore you win quaterfin semifin final match oppon st match So bore fell everyon So I suggest add featur see other game tournament match',\n",
              " 'love new club cool club actual prize like sticker shirt cue hat honesti anyth would cool advertis spread word game game prize like cue big coin mini game chat custom tabl u challeng someon would dope diffent need new profil pic win purchas keep see lame one anyth make custom player anyth player win would major upgrad sure must game classic mine year',\n",
              " 'best pool game ever awar hacker get credit card readi and pay money best money make machin creator owner they need coupl privat jet mani time you accid push million game don`t want play high stake and I think friend that plan bastard',\n",
              " 'the better pool game googl play slightli buggi when oppon connect stabl suddenli say I run time even though I made shot It also seem support push the timer need b obviou run',\n",
              " 'game alright bit sketchi either oppon bad connect the pool cue power bar need look It annoy I tri get right amount power suddenli start move angl finger move bar',\n",
              " 'Hi realli like game I tri ti purchas halloween pack twice amount got deduct bank account transact pool show declin could u pleas let knw whether get pack money back',\n",
              " 'awesom like look see nickatnyt play molt glad ad club game need one thing though player get hope win big daili spin It rig get low prize',\n",
              " 'the free spin joke there slot lower alway land odd say control u spend money seem like play ton bot where american',\n",
              " 'realli what I think game awesom I play tabl pool time thi game real life pool peopl complain control develop fault individu fault If know manipul easi pool peac men',\n",
              " 'I actual addict game seem wierd critic time game I go win match game shut time I get reboot I lost onli time ever critic moment I never play promis the game total rig that perfectli clear spin wheel alway land low what chanc otherwis rig',\n",
              " 'worst server iran from first time I tri game I acout messag connect slow I tri best network iran recent even connect game time pleas consid better server caus mani iranian love game',\n",
              " 'funni game never see cue batteri insid you earn upgrad pay coin stupid but recharg cue u use stupid thing back star keep ask rate game stil noth improv call pocket game pot ball wrong pocket ball hand oppon lose turn',\n",
              " 'I previou profil howev updat I lost million coin rank how sad frustrat I start If ball fix I give five star',\n",
              " 'take money differ rate coin I went game lost round come money gone also offer get coin dont get fix glitch idiot want coin back',\n",
              " 'great game use play mini clip year ago took star I cant block peopl play poorli Ie purpos scratch break scratch caus dont shot dont play like bitch',\n",
              " ...]"
            ]
          },
          "metadata": {
            "tags": []
          },
          "execution_count": 12
        }
      ]
    },
    {
      "cell_type": "markdown",
      "metadata": {
        "id": "kTwgLvbVue7T"
      },
      "source": [
        "Label Encoding for Sentiment"
      ]
    },
    {
      "cell_type": "code",
      "metadata": {
        "id": "A5_vJBhNueff"
      },
      "source": [
        "from sklearn.preprocessing import LabelEncoder\n",
        "le = LabelEncoder()\n",
        "y_sentiment = le.fit_transform(dataset.iloc[:, 2].values)"
      ],
      "execution_count": null,
      "outputs": []
    },
    {
      "cell_type": "code",
      "metadata": {
        "id": "b9k8EV2Pvfyx",
        "outputId": "e8441bac-bec6-425c-bc66-e8baa5d518bc",
        "colab": {
          "base_uri": "https://localhost:8080/",
          "height": 34
        }
      },
      "source": [
        "for i in y_sentiment:\n",
        "  if i == 1:\n",
        "    print(\"Present\")\n",
        "    break"
      ],
      "execution_count": null,
      "outputs": [
        {
          "output_type": "stream",
          "text": [
            "Present\n"
          ],
          "name": "stdout"
        }
      ]
    },
    {
      "cell_type": "markdown",
      "metadata": {
        "id": "RwS30rrKtqie"
      },
      "source": [
        "#Creating bag of words"
      ]
    },
    {
      "cell_type": "code",
      "metadata": {
        "id": "80Odzh14SFU-"
      },
      "source": [
        "from sklearn.feature_extraction.text import CountVectorizer\n",
        "cv = CountVectorizer(max_features = 1500)\n",
        "X = cv.fit_transform(corpus).toarray()"
      ],
      "execution_count": null,
      "outputs": []
    },
    {
      "cell_type": "markdown",
      "metadata": {
        "id": "DH_VjgPzC2cd"
      },
      "source": [
        "## Splitting the dataset into the Training set and Test set"
      ]
    },
    {
      "cell_type": "code",
      "metadata": {
        "id": "-hP5gkGwzpXh"
      },
      "source": [
        "from sklearn.model_selection import train_test_split\n",
        "X_train, X_test, y_train, y_test = train_test_split(X, y_sentiment, test_size = 0.2, random_state = 0)"
      ],
      "execution_count": null,
      "outputs": []
    },
    {
      "cell_type": "markdown",
      "metadata": {
        "id": "9giKjM4xx-Xc"
      },
      "source": [
        "#Classification\n",
        ".values.values.values......,,.,,...,.,."
      ]
    },
    {
      "cell_type": "markdown",
      "metadata": {
        "id": "bb6jCOCQiAmP"
      },
      "source": [
        "Training the Decision Tree Classification model on the Training set"
      ]
    },
    {
      "cell_type": "code",
      "metadata": {
        "id": "6KppBrvXmRx3",
        "outputId": "4f59aa14-df5e-414e-ca75-57d6d3913735",
        "colab": {
          "base_uri": "https://localhost:8080/",
          "height": 118
        }
      },
      "source": [
        "from sklearn.tree import DecisionTreeClassifier\n",
        "classifier = DecisionTreeClassifier(criterion = 'entropy', random_state = 0)\n",
        "classifier.fit(X_train, y_train)"
      ],
      "execution_count": null,
      "outputs": [
        {
          "output_type": "execute_result",
          "data": {
            "text/plain": [
              "DecisionTreeClassifier(ccp_alpha=0.0, class_weight=None, criterion='entropy',\n",
              "                       max_depth=None, max_features=None, max_leaf_nodes=None,\n",
              "                       min_impurity_decrease=0.0, min_impurity_split=None,\n",
              "                       min_samples_leaf=1, min_samples_split=2,\n",
              "                       min_weight_fraction_leaf=0.0, presort='deprecated',\n",
              "                       random_state=0, splitter='best')"
            ]
          },
          "metadata": {
            "tags": []
          },
          "execution_count": 17
        }
      ]
    },
    {
      "cell_type": "markdown",
      "metadata": {
        "id": "h4Hwj34ziWQW"
      },
      "source": [
        "## Making the Confusion Matrix"
      ]
    },
    {
      "cell_type": "code",
      "metadata": {
        "id": "D6bpZwUiiXic",
        "outputId": "db271bbb-246e-492e-f93f-2e1594920004",
        "colab": {
          "base_uri": "https://localhost:8080/",
          "height": 84
        }
      },
      "source": [
        "from sklearn.metrics import confusion_matrix, accuracy_score\n",
        "y_pred = classifier.predict(X_test)\n",
        "cm = confusion_matrix(y_test, y_pred)\n",
        "print(cm)\n",
        "accuracy_score(y_test, y_pred)"
      ],
      "execution_count": null,
      "outputs": [
        {
          "output_type": "stream",
          "text": [
            "[[ 642   44  138]\n",
            " [  39  418   45]\n",
            " [ 134   60 2107]]\n"
          ],
          "name": "stdout"
        },
        {
          "output_type": "execute_result",
          "data": {
            "text/plain": [
              "0.8731734215605184"
            ]
          },
          "metadata": {
            "tags": []
          },
          "execution_count": 18
        }
      ]
    },
    {
      "cell_type": "code",
      "metadata": {
        "id": "uxouL-K-yuBU",
        "outputId": "a0766cc1-ae8f-499f-e0bc-d7283fc55c65",
        "colab": {
          "base_uri": "https://localhost:8080/",
          "height": 34
        }
      },
      "source": [
        "from sklearn.model_selection import cross_val_score\n",
        "accuracies = cross_val_score(classifier, X = X_train, y= y_train, cv = 10)\n",
        "accuracies.mean()"
      ],
      "execution_count": null,
      "outputs": [
        {
          "output_type": "execute_result",
          "data": {
            "text/plain": [
              "0.8680029468380903"
            ]
          },
          "metadata": {
            "tags": []
          },
          "execution_count": 19
        }
      ]
    },
    {
      "cell_type": "code",
      "metadata": {
        "id": "V0uYjli48OOW",
        "outputId": "67e3d0b9-f2c9-4034-dce2-7752258a22a4",
        "colab": {
          "base_uri": "https://localhost:8080/",
          "height": 34
        }
      },
      "source": [
        "accuracies.std()"
      ],
      "execution_count": null,
      "outputs": [
        {
          "output_type": "execute_result",
          "data": {
            "text/plain": [
              "0.009143691761352091"
            ]
          },
          "metadata": {
            "tags": []
          },
          "execution_count": 20
        }
      ]
    },
    {
      "cell_type": "markdown",
      "metadata": {
        "id": "EqL9Qe8m8yhU"
      },
      "source": [
        "Training the Logistic Regression model on the Training set"
      ]
    },
    {
      "cell_type": "code",
      "metadata": {
        "id": "C2uvrkF6c2YJ",
        "outputId": "c13cdda2-346a-47de-b08c-47acbfc32981",
        "colab": {
          "base_uri": "https://localhost:8080/",
          "height": 235
        }
      },
      "source": [
        "from sklearn.linear_model import LogisticRegression\n",
        "classifier = LogisticRegression(random_state = 0)\n",
        "classifier.fit(X_train, y_train)"
      ],
      "execution_count": null,
      "outputs": [
        {
          "output_type": "stream",
          "text": [
            "/usr/local/lib/python3.6/dist-packages/sklearn/linear_model/_logistic.py:940: ConvergenceWarning: lbfgs failed to converge (status=1):\n",
            "STOP: TOTAL NO. of ITERATIONS REACHED LIMIT.\n",
            "\n",
            "Increase the number of iterations (max_iter) or scale the data as shown in:\n",
            "    https://scikit-learn.org/stable/modules/preprocessing.html\n",
            "Please also refer to the documentation for alternative solver options:\n",
            "    https://scikit-learn.org/stable/modules/linear_model.html#logistic-regression\n",
            "  extra_warning_msg=_LOGISTIC_SOLVER_CONVERGENCE_MSG)\n"
          ],
          "name": "stderr"
        },
        {
          "output_type": "execute_result",
          "data": {
            "text/plain": [
              "LogisticRegression(C=1.0, class_weight=None, dual=False, fit_intercept=True,\n",
              "                   intercept_scaling=1, l1_ratio=None, max_iter=100,\n",
              "                   multi_class='auto', n_jobs=None, penalty='l2',\n",
              "                   random_state=0, solver='lbfgs', tol=0.0001, verbose=0,\n",
              "                   warm_start=False)"
            ]
          },
          "metadata": {
            "tags": []
          },
          "execution_count": 21
        }
      ]
    },
    {
      "cell_type": "code",
      "metadata": {
        "id": "qp-WN5BA9FF_",
        "outputId": "25cb1b3c-20ae-476f-b34e-fa40b60ea2c0",
        "colab": {
          "base_uri": "https://localhost:8080/",
          "height": 84
        }
      },
      "source": [
        "y_pred = classifier.predict(X_test)\n",
        "from sklearn.metrics import confusion_matrix, accuracy_score\n",
        "cm = confusion_matrix(y_test, y_pred)\n",
        "as1 = accuracy_score(y_test, y_pred)\n",
        "print(cm)\n",
        "print(as1)"
      ],
      "execution_count": null,
      "outputs": [
        {
          "output_type": "stream",
          "text": [
            "[[ 675   49  100]\n",
            " [  19  426   57]\n",
            " [  79   68 2154]]\n",
            "0.8974358974358975\n"
          ],
          "name": "stdout"
        }
      ]
    },
    {
      "cell_type": "code",
      "metadata": {
        "id": "QQA2ITq-9QLl",
        "outputId": "66780adb-9786-4576-ff22-4312eb6f994b",
        "colab": {
          "base_uri": "https://localhost:8080/",
          "height": 1000
        }
      },
      "source": [
        "from sklearn.model_selection import cross_val_score\n",
        "accuracies = cross_val_score(classifier, X = X_train, y= y_train, cv = 10)\n",
        "accuracies.mean()"
      ],
      "execution_count": null,
      "outputs": [
        {
          "output_type": "stream",
          "text": [
            "/usr/local/lib/python3.6/dist-packages/sklearn/linear_model/_logistic.py:940: ConvergenceWarning: lbfgs failed to converge (status=1):\n",
            "STOP: TOTAL NO. of ITERATIONS REACHED LIMIT.\n",
            "\n",
            "Increase the number of iterations (max_iter) or scale the data as shown in:\n",
            "    https://scikit-learn.org/stable/modules/preprocessing.html\n",
            "Please also refer to the documentation for alternative solver options:\n",
            "    https://scikit-learn.org/stable/modules/linear_model.html#logistic-regression\n",
            "  extra_warning_msg=_LOGISTIC_SOLVER_CONVERGENCE_MSG)\n",
            "/usr/local/lib/python3.6/dist-packages/sklearn/linear_model/_logistic.py:940: ConvergenceWarning: lbfgs failed to converge (status=1):\n",
            "STOP: TOTAL NO. of ITERATIONS REACHED LIMIT.\n",
            "\n",
            "Increase the number of iterations (max_iter) or scale the data as shown in:\n",
            "    https://scikit-learn.org/stable/modules/preprocessing.html\n",
            "Please also refer to the documentation for alternative solver options:\n",
            "    https://scikit-learn.org/stable/modules/linear_model.html#logistic-regression\n",
            "  extra_warning_msg=_LOGISTIC_SOLVER_CONVERGENCE_MSG)\n",
            "/usr/local/lib/python3.6/dist-packages/sklearn/linear_model/_logistic.py:940: ConvergenceWarning: lbfgs failed to converge (status=1):\n",
            "STOP: TOTAL NO. of ITERATIONS REACHED LIMIT.\n",
            "\n",
            "Increase the number of iterations (max_iter) or scale the data as shown in:\n",
            "    https://scikit-learn.org/stable/modules/preprocessing.html\n",
            "Please also refer to the documentation for alternative solver options:\n",
            "    https://scikit-learn.org/stable/modules/linear_model.html#logistic-regression\n",
            "  extra_warning_msg=_LOGISTIC_SOLVER_CONVERGENCE_MSG)\n",
            "/usr/local/lib/python3.6/dist-packages/sklearn/linear_model/_logistic.py:940: ConvergenceWarning: lbfgs failed to converge (status=1):\n",
            "STOP: TOTAL NO. of ITERATIONS REACHED LIMIT.\n",
            "\n",
            "Increase the number of iterations (max_iter) or scale the data as shown in:\n",
            "    https://scikit-learn.org/stable/modules/preprocessing.html\n",
            "Please also refer to the documentation for alternative solver options:\n",
            "    https://scikit-learn.org/stable/modules/linear_model.html#logistic-regression\n",
            "  extra_warning_msg=_LOGISTIC_SOLVER_CONVERGENCE_MSG)\n",
            "/usr/local/lib/python3.6/dist-packages/sklearn/linear_model/_logistic.py:940: ConvergenceWarning: lbfgs failed to converge (status=1):\n",
            "STOP: TOTAL NO. of ITERATIONS REACHED LIMIT.\n",
            "\n",
            "Increase the number of iterations (max_iter) or scale the data as shown in:\n",
            "    https://scikit-learn.org/stable/modules/preprocessing.html\n",
            "Please also refer to the documentation for alternative solver options:\n",
            "    https://scikit-learn.org/stable/modules/linear_model.html#logistic-regression\n",
            "  extra_warning_msg=_LOGISTIC_SOLVER_CONVERGENCE_MSG)\n",
            "/usr/local/lib/python3.6/dist-packages/sklearn/linear_model/_logistic.py:940: ConvergenceWarning: lbfgs failed to converge (status=1):\n",
            "STOP: TOTAL NO. of ITERATIONS REACHED LIMIT.\n",
            "\n",
            "Increase the number of iterations (max_iter) or scale the data as shown in:\n",
            "    https://scikit-learn.org/stable/modules/preprocessing.html\n",
            "Please also refer to the documentation for alternative solver options:\n",
            "    https://scikit-learn.org/stable/modules/linear_model.html#logistic-regression\n",
            "  extra_warning_msg=_LOGISTIC_SOLVER_CONVERGENCE_MSG)\n",
            "/usr/local/lib/python3.6/dist-packages/sklearn/linear_model/_logistic.py:940: ConvergenceWarning: lbfgs failed to converge (status=1):\n",
            "STOP: TOTAL NO. of ITERATIONS REACHED LIMIT.\n",
            "\n",
            "Increase the number of iterations (max_iter) or scale the data as shown in:\n",
            "    https://scikit-learn.org/stable/modules/preprocessing.html\n",
            "Please also refer to the documentation for alternative solver options:\n",
            "    https://scikit-learn.org/stable/modules/linear_model.html#logistic-regression\n",
            "  extra_warning_msg=_LOGISTIC_SOLVER_CONVERGENCE_MSG)\n",
            "/usr/local/lib/python3.6/dist-packages/sklearn/linear_model/_logistic.py:940: ConvergenceWarning: lbfgs failed to converge (status=1):\n",
            "STOP: TOTAL NO. of ITERATIONS REACHED LIMIT.\n",
            "\n",
            "Increase the number of iterations (max_iter) or scale the data as shown in:\n",
            "    https://scikit-learn.org/stable/modules/preprocessing.html\n",
            "Please also refer to the documentation for alternative solver options:\n",
            "    https://scikit-learn.org/stable/modules/linear_model.html#logistic-regression\n",
            "  extra_warning_msg=_LOGISTIC_SOLVER_CONVERGENCE_MSG)\n",
            "/usr/local/lib/python3.6/dist-packages/sklearn/linear_model/_logistic.py:940: ConvergenceWarning: lbfgs failed to converge (status=1):\n",
            "STOP: TOTAL NO. of ITERATIONS REACHED LIMIT.\n",
            "\n",
            "Increase the number of iterations (max_iter) or scale the data as shown in:\n",
            "    https://scikit-learn.org/stable/modules/preprocessing.html\n",
            "Please also refer to the documentation for alternative solver options:\n",
            "    https://scikit-learn.org/stable/modules/linear_model.html#logistic-regression\n",
            "  extra_warning_msg=_LOGISTIC_SOLVER_CONVERGENCE_MSG)\n",
            "/usr/local/lib/python3.6/dist-packages/sklearn/linear_model/_logistic.py:940: ConvergenceWarning: lbfgs failed to converge (status=1):\n",
            "STOP: TOTAL NO. of ITERATIONS REACHED LIMIT.\n",
            "\n",
            "Increase the number of iterations (max_iter) or scale the data as shown in:\n",
            "    https://scikit-learn.org/stable/modules/preprocessing.html\n",
            "Please also refer to the documentation for alternative solver options:\n",
            "    https://scikit-learn.org/stable/modules/linear_model.html#logistic-regression\n",
            "  extra_warning_msg=_LOGISTIC_SOLVER_CONVERGENCE_MSG)\n"
          ],
          "name": "stderr"
        },
        {
          "output_type": "execute_result",
          "data": {
            "text/plain": [
              "0.8908190308705055"
            ]
          },
          "metadata": {
            "tags": []
          },
          "execution_count": 23
        }
      ]
    },
    {
      "cell_type": "code",
      "metadata": {
        "id": "8wC9vIzw9aTs",
        "outputId": "0cf26feb-d83d-4d5d-ceb5-e36c352c8d12",
        "colab": {
          "base_uri": "https://localhost:8080/",
          "height": 34
        }
      },
      "source": [
        "accuracies.std()"
      ],
      "execution_count": null,
      "outputs": [
        {
          "output_type": "execute_result",
          "data": {
            "text/plain": [
              "0.0047027736394988145"
            ]
          },
          "metadata": {
            "tags": []
          },
          "execution_count": 24
        }
      ]
    },
    {
      "cell_type": "markdown",
      "metadata": {
        "id": "jAt8bKSJIisM"
      },
      "source": [
        ""
      ]
    },
    {
      "cell_type": "markdown",
      "metadata": {
        "id": "YTukY2nsImjT"
      },
      "source": [
        "## Training the K-NN model on the Training set"
      ]
    },
    {
      "cell_type": "code",
      "metadata": {
        "id": "NEV7SulldjFx",
        "outputId": "2025949b-0ed9-4ebd-d6e4-b1942f6e77f8",
        "colab": {
          "base_uri": "https://localhost:8080/",
          "height": 67
        }
      },
      "source": [
        "from sklearn.neighbors import KNeighborsClassifier\n",
        "classifier = KNeighborsClassifier(n_neighbors = 5)\n",
        "classifier.fit(X_train, y_train)"
      ],
      "execution_count": null,
      "outputs": [
        {
          "output_type": "execute_result",
          "data": {
            "text/plain": [
              "KNeighborsClassifier(algorithm='auto', leaf_size=30, metric='minkowski',\n",
              "                     metric_params=None, n_jobs=None, n_neighbors=5, p=2,\n",
              "                     weights='uniform')"
            ]
          },
          "metadata": {
            "tags": []
          },
          "execution_count": 25
        }
      ]
    },
    {
      "cell_type": "code",
      "metadata": {
        "id": "RwkN1ZkxIgLF",
        "outputId": "9f005e77-bb5c-4707-fd05-2f4e83c8e46e",
        "colab": {
          "base_uri": "https://localhost:8080/",
          "height": 84
        }
      },
      "source": [
        "y_pred = classifier.predict(X_test)\n",
        "from sklearn.metrics import confusion_matrix, accuracy_score\n",
        "cm = confusion_matrix(y_test, y_pred)\n",
        "print(cm)\n",
        "accuracy_score(y_test, y_pred)\n"
      ],
      "execution_count": null,
      "outputs": [
        {
          "output_type": "stream",
          "text": [
            "[[ 407  276  141]\n",
            " [  11  451   40]\n",
            " [ 119  437 1745]]\n"
          ],
          "name": "stdout"
        },
        {
          "output_type": "execute_result",
          "data": {
            "text/plain": [
              "0.7176730079955886"
            ]
          },
          "metadata": {
            "tags": []
          },
          "execution_count": 26
        }
      ]
    },
    {
      "cell_type": "code",
      "metadata": {
        "id": "6op3jewcJjSC",
        "outputId": "59d56ed4-4feb-4dcd-9973-f0146324b4ae",
        "colab": {
          "base_uri": "https://localhost:8080/",
          "height": 34
        }
      },
      "source": [
        "from sklearn.model_selection import cross_val_score\n",
        "accuracies = cross_val_score(classifier, X = X_train, y= y_train, cv = 10)\n",
        "accuracies.mean()"
      ],
      "execution_count": null,
      "outputs": [
        {
          "output_type": "execute_result",
          "data": {
            "text/plain": [
              "0.7036125383207776"
            ]
          },
          "metadata": {
            "tags": []
          },
          "execution_count": 27
        }
      ]
    },
    {
      "cell_type": "markdown",
      "metadata": {
        "id": "FXzwnCQRL86e"
      },
      "source": [
        "## Training the Naive Bayes model on the Training set"
      ]
    },
    {
      "cell_type": "code",
      "metadata": {
        "id": "e0pFVAmciHQs",
        "outputId": "12293e41-22c7-4d5f-ba42-3ed8f5133637",
        "colab": {
          "base_uri": "https://localhost:8080/"
        }
      },
      "source": [
        "from sklearn.naive_bayes import GaussianNB\n",
        "classifier = GaussianNB()\n",
        "classifier.fit(X_train, y_train)"
      ],
      "execution_count": null,
      "outputs": [
        {
          "output_type": "execute_result",
          "data": {
            "text/plain": [
              "GaussianNB(priors=None, var_smoothing=1e-09)"
            ]
          },
          "metadata": {
            "tags": []
          },
          "execution_count": 28
        }
      ]
    },
    {
      "cell_type": "code",
      "metadata": {
        "id": "SZkiilHXL9x5",
        "outputId": "f30cdbca-0864-45b5-df63-f8988638a7b3",
        "colab": {
          "base_uri": "https://localhost:8080/"
        }
      },
      "source": [
        "y_pred = classifier.predict(X_test)\n",
        "from sklearn.metrics import confusion_matrix, accuracy_score\n",
        "cm = confusion_matrix(y_test, y_pred)\n",
        "print(cm)\n",
        "accuracy_score(y_test, y_pred)"
      ],
      "execution_count": null,
      "outputs": [
        {
          "output_type": "stream",
          "text": [
            "[[435 309  80]\n",
            " [ 32 438  32]\n",
            " [491 909 901]]\n"
          ],
          "name": "stdout"
        },
        {
          "output_type": "execute_result",
          "data": {
            "text/plain": [
              "0.48910945685139234"
            ]
          },
          "metadata": {
            "tags": []
          },
          "execution_count": 29
        }
      ]
    },
    {
      "cell_type": "code",
      "metadata": {
        "id": "IIM_SxLDMEVQ",
        "outputId": "822b951a-a992-4edd-f6b8-503ec59d0fdd",
        "colab": {
          "base_uri": "https://localhost:8080/",
          "height": 34
        }
      },
      "source": [
        "from sklearn.model_selection import cross_val_score\n",
        "accuracies = cross_val_score(classifier, X = X_train, y= y_train, cv = 10)\n",
        "accuracies.mean()"
      ],
      "execution_count": null,
      "outputs": [
        {
          "output_type": "execute_result",
          "data": {
            "text/plain": [
              "0.48883652178046055"
            ]
          },
          "metadata": {
            "tags": []
          },
          "execution_count": 30
        }
      ]
    },
    {
      "cell_type": "markdown",
      "metadata": {
        "id": "yZJoFnAMMQvG"
      },
      "source": [
        "## Training the Random Forest Classification model on the Training set"
      ]
    },
    {
      "cell_type": "code",
      "metadata": {
        "id": "RwLY8WE9MQvH",
        "outputId": "0a4c973d-7138-4bb8-e806-0f2887dfdd67",
        "colab": {
          "base_uri": "https://localhost:8080/",
          "height": 151
        }
      },
      "source": [
        "from sklearn.ensemble import RandomForestClassifier\n",
        "classifier = RandomForestClassifier(n_estimators = 20, criterion = 'entropy', random_state = 0)\n",
        "classifier.fit(X_train, y_train)"
      ],
      "execution_count": null,
      "outputs": [
        {
          "output_type": "execute_result",
          "data": {
            "text/plain": [
              "RandomForestClassifier(bootstrap=True, ccp_alpha=0.0, class_weight=None,\n",
              "                       criterion='entropy', max_depth=None, max_features='auto',\n",
              "                       max_leaf_nodes=None, max_samples=None,\n",
              "                       min_impurity_decrease=0.0, min_impurity_split=None,\n",
              "                       min_samples_leaf=1, min_samples_split=2,\n",
              "                       min_weight_fraction_leaf=0.0, n_estimators=20,\n",
              "                       n_jobs=None, oob_score=False, random_state=0, verbose=0,\n",
              "                       warm_start=False)"
            ]
          },
          "metadata": {
            "tags": []
          },
          "execution_count": 31
        }
      ]
    },
    {
      "cell_type": "markdown",
      "metadata": {
        "id": "I_xAqBkxMQvK"
      },
      "source": [
        "## Making the Confusion Matrix"
      ]
    },
    {
      "cell_type": "code",
      "metadata": {
        "id": "MGQo1ItfMQvM",
        "outputId": "71f87c25-3176-4437-9673-e4be729821b6",
        "colab": {
          "base_uri": "https://localhost:8080/"
        }
      },
      "source": [
        "from sklearn.metrics import confusion_matrix, accuracy_score\n",
        "y_pred = classifier.predict(X_test)\n",
        "cm = confusion_matrix(y_test, y_pred)\n",
        "print(cm)\n",
        "accuracy_score(y_test, y_pred)"
      ],
      "execution_count": null,
      "outputs": [
        {
          "output_type": "stream",
          "text": [
            "[[ 614   51  159]\n",
            " [  15  428   59]\n",
            " [  69   59 2173]]\n"
          ],
          "name": "stdout"
        },
        {
          "output_type": "execute_result",
          "data": {
            "text/plain": [
              "0.8864074993107252"
            ]
          },
          "metadata": {
            "tags": []
          },
          "execution_count": 32
        }
      ]
    },
    {
      "cell_type": "code",
      "metadata": {
        "id": "H4LThch4MSmO",
        "outputId": "282166f0-0b28-4d8a-9819-6c5727988a2b",
        "colab": {
          "base_uri": "https://localhost:8080/",
          "height": 34
        }
      },
      "source": [
        "from sklearn.model_selection import cross_val_score\n",
        "accuracies = cross_val_score(classifier, X = X_train, y= y_train, cv = 10)\n",
        "accuracies.mean()"
      ],
      "execution_count": null,
      "outputs": [
        {
          "output_type": "execute_result",
          "data": {
            "text/plain": [
              "0.8813750802062786"
            ]
          },
          "metadata": {
            "tags": []
          },
          "execution_count": 33
        }
      ]
    },
    {
      "cell_type": "code",
      "metadata": {
        "id": "z4yqVf4eMqon",
        "outputId": "3808191e-01d4-4bff-ba99-59907032c3a8",
        "colab": {
          "base_uri": "https://localhost:8080/"
        }
      },
      "source": [
        "accuracies.std()"
      ],
      "execution_count": null,
      "outputs": [
        {
          "output_type": "execute_result",
          "data": {
            "text/plain": [
              "0.005601563983922356"
            ]
          },
          "metadata": {
            "tags": []
          },
          "execution_count": 34
        }
      ]
    },
    {
      "cell_type": "markdown",
      "metadata": {
        "id": "TjGENLA2OTNz"
      },
      "source": [
        "## **2. Sentiment Polarity** "
      ]
    },
    {
      "cell_type": "code",
      "metadata": {
        "id": "ZBqiPSA8Pr0F",
        "outputId": "342dcbe2-0897-4880-a68d-0aef1df1cad2",
        "colab": {
          "base_uri": "https://localhost:8080/"
        }
      },
      "source": [
        "dataset.head(10)"
      ],
      "execution_count": null,
      "outputs": [
        {
          "output_type": "execute_result",
          "data": {
            "text/html": [
              "<div>\n",
              "<style scoped>\n",
              "    .dataframe tbody tr th:only-of-type {\n",
              "        vertical-align: middle;\n",
              "    }\n",
              "\n",
              "    .dataframe tbody tr th {\n",
              "        vertical-align: top;\n",
              "    }\n",
              "\n",
              "    .dataframe thead th {\n",
              "        text-align: right;\n",
              "    }\n",
              "</style>\n",
              "<table border=\"1\" class=\"dataframe\">\n",
              "  <thead>\n",
              "    <tr style=\"text-align: right;\">\n",
              "      <th></th>\n",
              "      <th>App</th>\n",
              "      <th>Translated_Review</th>\n",
              "      <th>Sentiment</th>\n",
              "      <th>Sentiment_Polarity</th>\n",
              "      <th>Sentiment_Subjectivity</th>\n",
              "    </tr>\n",
              "  </thead>\n",
              "  <tbody>\n",
              "    <tr>\n",
              "      <th>0</th>\n",
              "      <td>10 Best Foods for You</td>\n",
              "      <td>I like eat delicious food. That's I'm cooking ...</td>\n",
              "      <td>Positive</td>\n",
              "      <td>1.00</td>\n",
              "      <td>0.533333</td>\n",
              "    </tr>\n",
              "    <tr>\n",
              "      <th>1</th>\n",
              "      <td>10 Best Foods for You</td>\n",
              "      <td>This help eating healthy exercise regular basis</td>\n",
              "      <td>Positive</td>\n",
              "      <td>0.25</td>\n",
              "      <td>0.288462</td>\n",
              "    </tr>\n",
              "    <tr>\n",
              "      <th>3</th>\n",
              "      <td>10 Best Foods for You</td>\n",
              "      <td>Works great especially going grocery store</td>\n",
              "      <td>Positive</td>\n",
              "      <td>0.40</td>\n",
              "      <td>0.875000</td>\n",
              "    </tr>\n",
              "    <tr>\n",
              "      <th>4</th>\n",
              "      <td>10 Best Foods for You</td>\n",
              "      <td>Best idea us</td>\n",
              "      <td>Positive</td>\n",
              "      <td>1.00</td>\n",
              "      <td>0.300000</td>\n",
              "    </tr>\n",
              "    <tr>\n",
              "      <th>5</th>\n",
              "      <td>10 Best Foods for You</td>\n",
              "      <td>Best way</td>\n",
              "      <td>Positive</td>\n",
              "      <td>1.00</td>\n",
              "      <td>0.300000</td>\n",
              "    </tr>\n",
              "    <tr>\n",
              "      <th>6</th>\n",
              "      <td>10 Best Foods for You</td>\n",
              "      <td>Amazing</td>\n",
              "      <td>Positive</td>\n",
              "      <td>0.60</td>\n",
              "      <td>0.900000</td>\n",
              "    </tr>\n",
              "    <tr>\n",
              "      <th>8</th>\n",
              "      <td>10 Best Foods for You</td>\n",
              "      <td>Looking forward app,</td>\n",
              "      <td>Neutral</td>\n",
              "      <td>0.00</td>\n",
              "      <td>0.000000</td>\n",
              "    </tr>\n",
              "    <tr>\n",
              "      <th>9</th>\n",
              "      <td>10 Best Foods for You</td>\n",
              "      <td>It helpful site ! It help foods get !</td>\n",
              "      <td>Neutral</td>\n",
              "      <td>0.00</td>\n",
              "      <td>0.000000</td>\n",
              "    </tr>\n",
              "    <tr>\n",
              "      <th>10</th>\n",
              "      <td>10 Best Foods for You</td>\n",
              "      <td>good you.</td>\n",
              "      <td>Positive</td>\n",
              "      <td>0.70</td>\n",
              "      <td>0.600000</td>\n",
              "    </tr>\n",
              "    <tr>\n",
              "      <th>11</th>\n",
              "      <td>10 Best Foods for You</td>\n",
              "      <td>Useful information The amount spelling errors ...</td>\n",
              "      <td>Positive</td>\n",
              "      <td>0.20</td>\n",
              "      <td>0.100000</td>\n",
              "    </tr>\n",
              "  </tbody>\n",
              "</table>\n",
              "</div>"
            ],
            "text/plain": [
              "                      App  ... Sentiment_Subjectivity\n",
              "0   10 Best Foods for You  ...               0.533333\n",
              "1   10 Best Foods for You  ...               0.288462\n",
              "3   10 Best Foods for You  ...               0.875000\n",
              "4   10 Best Foods for You  ...               0.300000\n",
              "5   10 Best Foods for You  ...               0.300000\n",
              "6   10 Best Foods for You  ...               0.900000\n",
              "8   10 Best Foods for You  ...               0.000000\n",
              "9   10 Best Foods for You  ...               0.000000\n",
              "10  10 Best Foods for You  ...               0.600000\n",
              "11  10 Best Foods for You  ...               0.100000\n",
              "\n",
              "[10 rows x 5 columns]"
            ]
          },
          "metadata": {
            "tags": []
          },
          "execution_count": 35
        }
      ]
    },
    {
      "cell_type": "code",
      "metadata": {
        "id": "F5oNNN82MsnN"
      },
      "source": [
        "y_poly = dataset.iloc[:, 3].values"
      ],
      "execution_count": null,
      "outputs": []
    },
    {
      "cell_type": "code",
      "metadata": {
        "id": "uUhx6yvJTj7q"
      },
      "source": [
        "for i in range(len(y_poly)):\n",
        "  y_poly[i] = y_poly[i]*100\n",
        "  y_poly[i] = int(y_poly[i])"
      ],
      "execution_count": null,
      "outputs": []
    },
    {
      "cell_type": "code",
      "metadata": {
        "id": "EyaGMeEfVTYp",
        "outputId": "cf7730a1-1bef-4956-f1e0-b704b8a912cd",
        "colab": {
          "base_uri": "https://localhost:8080/"
        }
      },
      "source": [
        "print(y_poly)"
      ],
      "execution_count": null,
      "outputs": [
        {
          "output_type": "stream",
          "text": [
            "[100.  25.  40. ...  28.   0.  18.]\n"
          ],
          "name": "stdout"
        }
      ]
    },
    {
      "cell_type": "markdown",
      "metadata": {
        "id": "7359MIIzPxYj"
      },
      "source": [
        "Spliting into training and test sets"
      ]
    },
    {
      "cell_type": "code",
      "metadata": {
        "id": "q7h9uRbXPwBB"
      },
      "source": [
        "from sklearn.model_selection import train_test_split\n",
        "X_train, X_test, y_train, y_test = train_test_split(X, y_poly, test_size = 0.2, random_state = 0)"
      ],
      "execution_count": null,
      "outputs": []
    },
    {
      "cell_type": "markdown",
      "metadata": {
        "id": "ZfvWz_YLQq9K"
      },
      "source": [
        "Training the Logistic Regression model on the Training set"
      ]
    },
    {
      "cell_type": "code",
      "metadata": {
        "id": "iAsaRkGxQq9L",
        "outputId": "834c9064-586f-4142-fa4e-6d53c6cab57e",
        "colab": {
          "base_uri": "https://localhost:8080/",
          "height": 235
        }
      },
      "source": [
        "from sklearn.linear_model import LogisticRegression\n",
        "classifier = LogisticRegression(random_state = 0)\n",
        "classifier.fit(X_train, y_train)"
      ],
      "execution_count": null,
      "outputs": [
        {
          "output_type": "stream",
          "text": [
            "/usr/local/lib/python3.6/dist-packages/sklearn/linear_model/_logistic.py:940: ConvergenceWarning: lbfgs failed to converge (status=1):\n",
            "STOP: TOTAL NO. of ITERATIONS REACHED LIMIT.\n",
            "\n",
            "Increase the number of iterations (max_iter) or scale the data as shown in:\n",
            "    https://scikit-learn.org/stable/modules/preprocessing.html\n",
            "Please also refer to the documentation for alternative solver options:\n",
            "    https://scikit-learn.org/stable/modules/linear_model.html#logistic-regression\n",
            "  extra_warning_msg=_LOGISTIC_SOLVER_CONVERGENCE_MSG)\n"
          ],
          "name": "stderr"
        },
        {
          "output_type": "execute_result",
          "data": {
            "text/plain": [
              "LogisticRegression(C=1.0, class_weight=None, dual=False, fit_intercept=True,\n",
              "                   intercept_scaling=1, l1_ratio=None, max_iter=100,\n",
              "                   multi_class='auto', n_jobs=None, penalty='l2',\n",
              "                   random_state=0, solver='lbfgs', tol=0.0001, verbose=0,\n",
              "                   warm_start=False)"
            ]
          },
          "metadata": {
            "tags": []
          },
          "execution_count": 40
        }
      ]
    },
    {
      "cell_type": "code",
      "metadata": {
        "id": "N_GiJN5QQq9N",
        "outputId": "2564ba0d-02e7-4daa-bd25-b668e333ab75",
        "colab": {
          "base_uri": "https://localhost:8080/"
        }
      },
      "source": [
        "y_pred = classifier.predict(X_test)\n",
        "from sklearn.metrics import confusion_matrix, accuracy_score\n",
        "cm = confusion_matrix(y_test, y_pred)\n",
        "as1 = accuracy_score(y_test, y_pred)\n",
        "print(cm)\n",
        "print(as1)"
      ],
      "execution_count": null,
      "outputs": [
        {
          "output_type": "stream",
          "text": [
            "[[12  0  0 ...  0  0  0]\n",
            " [ 0  0  0 ...  0  0  0]\n",
            " [ 0  0  4 ...  0  0  0]\n",
            " ...\n",
            " [ 0  0  0 ...  0  0  0]\n",
            " [ 0  0  0 ...  0  0  0]\n",
            " [ 0  0  0 ...  0  0 74]]\n",
            "0.46098704163220294\n"
          ],
          "name": "stdout"
        }
      ]
    },
    {
      "cell_type": "code",
      "metadata": {
        "id": "OvNboEUoQq9P",
        "outputId": "e9daf8a1-458f-4178-c6fb-dd3adfc3127a",
        "colab": {
          "base_uri": "https://localhost:8080/",
          "height": 1000
        }
      },
      "source": [
        "from sklearn.model_selection import cross_val_score\n",
        "accuracies = cross_val_score(classifier, X = X_train, y= y_train, cv = 10)\n",
        "accuracies.mean()"
      ],
      "execution_count": null,
      "outputs": [
        {
          "output_type": "stream",
          "text": [
            "/usr/local/lib/python3.6/dist-packages/sklearn/model_selection/_split.py:667: UserWarning: The least populated class in y has only 1 members, which is less than n_splits=10.\n",
            "  % (min_groups, self.n_splits)), UserWarning)\n",
            "/usr/local/lib/python3.6/dist-packages/sklearn/linear_model/_logistic.py:940: ConvergenceWarning: lbfgs failed to converge (status=1):\n",
            "STOP: TOTAL NO. of ITERATIONS REACHED LIMIT.\n",
            "\n",
            "Increase the number of iterations (max_iter) or scale the data as shown in:\n",
            "    https://scikit-learn.org/stable/modules/preprocessing.html\n",
            "Please also refer to the documentation for alternative solver options:\n",
            "    https://scikit-learn.org/stable/modules/linear_model.html#logistic-regression\n",
            "  extra_warning_msg=_LOGISTIC_SOLVER_CONVERGENCE_MSG)\n",
            "/usr/local/lib/python3.6/dist-packages/sklearn/linear_model/_logistic.py:940: ConvergenceWarning: lbfgs failed to converge (status=1):\n",
            "STOP: TOTAL NO. of ITERATIONS REACHED LIMIT.\n",
            "\n",
            "Increase the number of iterations (max_iter) or scale the data as shown in:\n",
            "    https://scikit-learn.org/stable/modules/preprocessing.html\n",
            "Please also refer to the documentation for alternative solver options:\n",
            "    https://scikit-learn.org/stable/modules/linear_model.html#logistic-regression\n",
            "  extra_warning_msg=_LOGISTIC_SOLVER_CONVERGENCE_MSG)\n",
            "/usr/local/lib/python3.6/dist-packages/sklearn/linear_model/_logistic.py:940: ConvergenceWarning: lbfgs failed to converge (status=1):\n",
            "STOP: TOTAL NO. of ITERATIONS REACHED LIMIT.\n",
            "\n",
            "Increase the number of iterations (max_iter) or scale the data as shown in:\n",
            "    https://scikit-learn.org/stable/modules/preprocessing.html\n",
            "Please also refer to the documentation for alternative solver options:\n",
            "    https://scikit-learn.org/stable/modules/linear_model.html#logistic-regression\n",
            "  extra_warning_msg=_LOGISTIC_SOLVER_CONVERGENCE_MSG)\n",
            "/usr/local/lib/python3.6/dist-packages/sklearn/linear_model/_logistic.py:940: ConvergenceWarning: lbfgs failed to converge (status=1):\n",
            "STOP: TOTAL NO. of ITERATIONS REACHED LIMIT.\n",
            "\n",
            "Increase the number of iterations (max_iter) or scale the data as shown in:\n",
            "    https://scikit-learn.org/stable/modules/preprocessing.html\n",
            "Please also refer to the documentation for alternative solver options:\n",
            "    https://scikit-learn.org/stable/modules/linear_model.html#logistic-regression\n",
            "  extra_warning_msg=_LOGISTIC_SOLVER_CONVERGENCE_MSG)\n",
            "/usr/local/lib/python3.6/dist-packages/sklearn/linear_model/_logistic.py:940: ConvergenceWarning: lbfgs failed to converge (status=1):\n",
            "STOP: TOTAL NO. of ITERATIONS REACHED LIMIT.\n",
            "\n",
            "Increase the number of iterations (max_iter) or scale the data as shown in:\n",
            "    https://scikit-learn.org/stable/modules/preprocessing.html\n",
            "Please also refer to the documentation for alternative solver options:\n",
            "    https://scikit-learn.org/stable/modules/linear_model.html#logistic-regression\n",
            "  extra_warning_msg=_LOGISTIC_SOLVER_CONVERGENCE_MSG)\n",
            "/usr/local/lib/python3.6/dist-packages/sklearn/linear_model/_logistic.py:940: ConvergenceWarning: lbfgs failed to converge (status=1):\n",
            "STOP: TOTAL NO. of ITERATIONS REACHED LIMIT.\n",
            "\n",
            "Increase the number of iterations (max_iter) or scale the data as shown in:\n",
            "    https://scikit-learn.org/stable/modules/preprocessing.html\n",
            "Please also refer to the documentation for alternative solver options:\n",
            "    https://scikit-learn.org/stable/modules/linear_model.html#logistic-regression\n",
            "  extra_warning_msg=_LOGISTIC_SOLVER_CONVERGENCE_MSG)\n",
            "/usr/local/lib/python3.6/dist-packages/sklearn/linear_model/_logistic.py:940: ConvergenceWarning: lbfgs failed to converge (status=1):\n",
            "STOP: TOTAL NO. of ITERATIONS REACHED LIMIT.\n",
            "\n",
            "Increase the number of iterations (max_iter) or scale the data as shown in:\n",
            "    https://scikit-learn.org/stable/modules/preprocessing.html\n",
            "Please also refer to the documentation for alternative solver options:\n",
            "    https://scikit-learn.org/stable/modules/linear_model.html#logistic-regression\n",
            "  extra_warning_msg=_LOGISTIC_SOLVER_CONVERGENCE_MSG)\n",
            "/usr/local/lib/python3.6/dist-packages/sklearn/linear_model/_logistic.py:940: ConvergenceWarning: lbfgs failed to converge (status=1):\n",
            "STOP: TOTAL NO. of ITERATIONS REACHED LIMIT.\n",
            "\n",
            "Increase the number of iterations (max_iter) or scale the data as shown in:\n",
            "    https://scikit-learn.org/stable/modules/preprocessing.html\n",
            "Please also refer to the documentation for alternative solver options:\n",
            "    https://scikit-learn.org/stable/modules/linear_model.html#logistic-regression\n",
            "  extra_warning_msg=_LOGISTIC_SOLVER_CONVERGENCE_MSG)\n",
            "/usr/local/lib/python3.6/dist-packages/sklearn/linear_model/_logistic.py:940: ConvergenceWarning: lbfgs failed to converge (status=1):\n",
            "STOP: TOTAL NO. of ITERATIONS REACHED LIMIT.\n",
            "\n",
            "Increase the number of iterations (max_iter) or scale the data as shown in:\n",
            "    https://scikit-learn.org/stable/modules/preprocessing.html\n",
            "Please also refer to the documentation for alternative solver options:\n",
            "    https://scikit-learn.org/stable/modules/linear_model.html#logistic-regression\n",
            "  extra_warning_msg=_LOGISTIC_SOLVER_CONVERGENCE_MSG)\n",
            "/usr/local/lib/python3.6/dist-packages/sklearn/linear_model/_logistic.py:940: ConvergenceWarning: lbfgs failed to converge (status=1):\n",
            "STOP: TOTAL NO. of ITERATIONS REACHED LIMIT.\n",
            "\n",
            "Increase the number of iterations (max_iter) or scale the data as shown in:\n",
            "    https://scikit-learn.org/stable/modules/preprocessing.html\n",
            "Please also refer to the documentation for alternative solver options:\n",
            "    https://scikit-learn.org/stable/modules/linear_model.html#logistic-regression\n",
            "  extra_warning_msg=_LOGISTIC_SOLVER_CONVERGENCE_MSG)\n"
          ],
          "name": "stderr"
        },
        {
          "output_type": "execute_result",
          "data": {
            "text/plain": [
              "0.45030395209011626"
            ]
          },
          "metadata": {
            "tags": []
          },
          "execution_count": 42
        }
      ]
    }
  ]
}